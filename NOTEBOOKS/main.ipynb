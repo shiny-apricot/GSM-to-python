{
 "cells": [
  {
   "cell_type": "code",
   "execution_count": 1,
   "metadata": {},
   "outputs": [
    {
     "ename": "ModuleNotFoundError",
     "evalue": "No module named 'config'",
     "output_type": "error",
     "traceback": [
      "\u001b[1;31m---------------------------------------------------------------------------\u001b[0m",
      "\u001b[1;31mModuleNotFoundError\u001b[0m                       Traceback (most recent call last)",
      "Cell \u001b[1;32mIn[1], line 1\u001b[0m\n\u001b[1;32m----> 1\u001b[0m \u001b[38;5;28;01mfrom\u001b[39;00m \u001b[38;5;21;01mconfig\u001b[39;00m \u001b[38;5;28;01mimport\u001b[39;00m INPUT_PATHS, PIPELINE_SETTINGS, MODEL_SETTINGS, DATA_PROCESSING\n\u001b[0;32m      2\u001b[0m \u001b[38;5;28;01mfrom\u001b[39;00m \u001b[38;5;21;01mdata_processing\u001b[39;00m\u001b[38;5;21;01m.\u001b[39;00m\u001b[38;5;21;01mdata_loader\u001b[39;00m \u001b[38;5;28;01mimport\u001b[39;00m load_group_file, load_input_file\n\u001b[0;32m      3\u001b[0m \u001b[38;5;28;01mimport\u001b[39;00m \u001b[38;5;21;01msys\u001b[39;00m\n",
      "\u001b[1;31mModuleNotFoundError\u001b[0m: No module named 'config'"
     ]
    }
   ],
   "source": [
    "from config import INPUT_PATHS, PIPELINE_SETTINGS, MODEL_SETTINGS, DATA_PROCESSING\n",
    "from data_processing.data_loader import load_group_file, load_input_file\n",
    "import sys\n",
    "import pathlib\n",
    "\n",
    "project_folder = pathlib.Path('..')  # Go up one directory\n",
    "\n",
    "# Now you can import the GSM_pipeline module\n",
    "from GSM_pipeline import gsm_run\n",
    "\n",
    "input_file = load_input_file(project_folder, INPUT_PATHS['expression_data'])\n",
    "group_file = load_group_file(project_folder, INPUT_PATHS['group_data'])\n",
    "\n",
    "gsm_run(input_file, group_file, PIPELINE_SETTINGS, MODEL_SETTINGS, DATA_PROCESSING)"
   ]
  }
 ],
 "metadata": {
  "kernelspec": {
   "display_name": "base",
   "language": "python",
   "name": "python3"
  },
  "language_info": {
   "codemirror_mode": {
    "name": "ipython",
    "version": 3
   },
   "file_extension": ".py",
   "mimetype": "text/x-python",
   "name": "python",
   "nbconvert_exporter": "python",
   "pygments_lexer": "ipython3",
   "version": "3.11.4"
  }
 },
 "nbformat": 4,
 "nbformat_minor": 2
}
