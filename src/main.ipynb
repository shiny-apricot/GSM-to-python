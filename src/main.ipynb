{
 "cells": [
  {
   "cell_type": "code",
   "execution_count": 1,
   "metadata": {},
   "outputs": [
    {
     "name": "stdout",
     "output_type": "stream",
     "text": [
      "Project Folder: /home/yasin/GSM-to-python\n",
      "/home/yasin/GSM-to-python/data/test/test_main_data.csv\n",
      "\u001b[32m✨ 2025-02-22 23:31:17,582 - gsm_pipeline - INFO - 🚀 Starting GSM pipeline...\u001b[0m\n",
      "\u001b[32m✨ 2025-02-22 23:31:17,583 - gsm_pipeline - INFO - Start data preprocessing.\u001b[0m\n",
      "\u001b[32m✨ 2025-02-22 23:31:17,585 - gsm_pipeline - INFO - Starting data normalization using zscore method\u001b[0m\n",
      "\u001b[32m✨ 2025-02-22 23:31:17,600 - gsm_pipeline - INFO - Data normalization completed successfully\u001b[0m\n",
      "\u001b[32m✨ 2025-02-22 23:31:17,614 - gsm_pipeline - INFO - Data preprocessing completed.\u001b[0m\n",
      "\u001b[32m✨ 2025-02-22 23:31:17,615 - gsm_pipeline - INFO - Grouping data preprocessing completed.\u001b[0m\n",
      "\u001b[32m✨ 2025-02-22 23:31:17,616 - gsm_pipeline - INFO - Iteration 1 for gsm_main_loop started...\u001b[0m\n",
      "\u001b[32m✨ 2025-02-22 23:31:17,616 - gsm_pipeline - INFO - Random seed set to: 1042\u001b[0m\n",
      "\u001b[32m✨ 2025-02-22 23:31:17,617 - gsm_pipeline - INFO - ##### Starting GSM Main Loop #####\u001b[0m\n",
      "\u001b[32m✨ 2025-02-22 23:31:17,617 - gsm_pipeline - INFO - 📊 Splitting data into training and testing sets...\u001b[0m\n",
      "\u001b[32m✨ 2025-02-22 23:31:17,640 - gsm_pipeline - INFO - Data split completed.\u001b[0m\n",
      "\u001b[32m✨ 2025-02-22 23:31:17,641 - gsm_pipeline - INFO - 🔍 Applying preliminary t-test filter...\u001b[0m\n",
      "\u001b[32m✨ 2025-02-22 23:31:17,643 - gsm_pipeline - INFO - Starting preliminary filtering...\u001b[0m\n",
      "\u001b[32m✨ 2025-02-22 23:31:17,644 - gsm_pipeline - INFO - ##### Running t-test on 135 genes #####\u001b[0m\n",
      "\u001b[32m✨ 2025-02-22 23:31:17,647 - gsm_pipeline - INFO - Applying fdr_bh correction\u001b[0m\n",
      "\u001b[32m✨ 2025-02-22 23:31:17,648 - gsm_pipeline - INFO - ✅ Selected 59 significant genes\u001b[0m\n",
      "\u001b[32m✨ 2025-02-22 23:31:17,648 - gsm_pipeline - INFO - ✅ Final selection: 59 genes after size filter (INITIAL_FEATURE_FILTER_SIZE=1000)\u001b[0m\n",
      "\u001b[32m✨ 2025-02-22 23:31:17,649 - gsm_pipeline - INFO - Preliminary filtering completed. Selected 59 features.\u001b[0m\n",
      "\u001b[32m✨ 2025-02-22 23:31:17,650 - gsm_pipeline - INFO - Preliminary filtering completed.\u001b[0m\n",
      "\u001b[32m✨ 2025-02-22 23:31:17,651 - gsm_pipeline - INFO - 🔗 Running gene grouping analysis...\u001b[0m\n",
      "\u001b[32m✨ 2025-02-22 23:31:17,653 - gsm_pipeline - INFO - 🔄 Starting grouping process...\u001b[0m\n",
      "\u001b[32m✨ 2025-02-22 23:31:17,653 - gsm_pipeline - INFO - ✅ Grouping data validation successful\u001b[0m\n",
      "\u001b[32m✨ 2025-02-22 23:31:17,654 - gsm_pipeline - INFO - ✅ Successfully processed 26 feature groups\u001b[0m\n",
      "\u001b[32m✨ 2025-02-22 23:31:17,655 - gsm_pipeline - INFO - Grouping completed.\u001b[0m\n",
      "\u001b[32m✨ 2025-02-22 23:31:17,656 - gsm_pipeline - INFO - 📈 Evaluating group performance...\u001b[0m\n",
      "\u001b[32m✨ 2025-02-22 23:31:17,657 - gsm_pipeline - INFO - 🎯 Starting feature scoring...\u001b[0m\n",
      "\u001b[32m✨ 2025-02-22 23:31:17,658 - gsm_pipeline - INFO - 📊 Scoring 135 features...\u001b[0m\n",
      "\u001b[32m✨ 2025-02-22 23:31:18,157 - gsm_pipeline - INFO - ✅ Feature scoring completed\u001b[0m\n",
      "\u001b[32m✨ 2025-02-22 23:31:18,158 - gsm_pipeline - INFO - ✅ Completed scoring 135 features\u001b[0m\n",
      "\u001b[32m✨ 2025-02-22 23:31:18,158 - gsm_pipeline - INFO - 🔄 Starting group scoring process...\u001b[0m\n"
     ]
    },
    {
     "name": "stderr",
     "output_type": "stream",
     "text": [
      "📊 Scoring groups: 100%|██████████| 26/26 [00:12<00:00,  2.04it/s]"
     ]
    },
    {
     "name": "stdout",
     "output_type": "stream",
     "text": [
      "\u001b[32m✨ 2025-02-22 23:31:30,889 - gsm_pipeline - INFO - 🏆 Ranking metrics by f1...\u001b[0m\n",
      "\u001b[36m🔍 2025-02-22 23:31:30,890 - gsm_pipeline - DEBUG - ✅ Ranking complete. Top score: 0.609\u001b[0m\n",
      "\u001b[32m✨ 2025-02-22 23:31:30,891 - gsm_pipeline - INFO - 🔄 Starting to save ranked groups to Excel...\u001b[0m\n",
      "\u001b[32m✨ 2025-02-22 23:31:30,980 - gsm_pipeline - INFO - ✅ Successfully saved ranked groups to: /home/yasin/GSM-to-python/output/20250222-233117/ranked_groups_iteration_1.xlsx\u001b[0m\n",
      "\u001b[32m✨ 2025-02-22 23:31:30,980 - gsm_pipeline - INFO - 💾 Saving ranked features to /home/yasin/GSM-to-python/output/20250222-233117/ranked_features_iteration_1.xlsx\u001b[0m\n",
      "\u001b[32m✨ 2025-02-22 23:31:30,998 - gsm_pipeline - INFO - ✅ Successfully saved 135 ranked features to Excel\u001b[0m\n",
      "\u001b[32m✨ 2025-02-22 23:31:30,999 - gsm_pipeline - INFO - Scoring completed.\u001b[0m\n",
      "\u001b[32m✨ 2025-02-22 23:31:30,999 - gsm_pipeline - INFO - 🤖 Training and evaluating models...\u001b[0m\n",
      "\u001b[32m✨ 2025-02-22 23:31:31,000 - gsm_pipeline - INFO - Training model with top 10 groups...\u001b[0m\n"
     ]
    },
    {
     "name": "stderr",
     "output_type": "stream",
     "text": [
      "\n"
     ]
    },
    {
     "name": "stdout",
     "output_type": "stream",
     "text": [
      "\u001b[32m✨ 2025-02-22 23:31:31,106 - gsm_pipeline - INFO - Modeling with top 10 groups completed\u001b[0m\n",
      "\u001b[32m✨ 2025-02-22 23:31:31,107 - gsm_pipeline - INFO - Training model with top 9 groups...\u001b[0m\n",
      "\u001b[32m✨ 2025-02-22 23:31:31,216 - gsm_pipeline - INFO - Modeling with top 9 groups completed\u001b[0m\n",
      "\u001b[32m✨ 2025-02-22 23:31:31,217 - gsm_pipeline - INFO - Training model with top 8 groups...\u001b[0m\n",
      "\u001b[32m✨ 2025-02-22 23:31:31,321 - gsm_pipeline - INFO - Modeling with top 8 groups completed\u001b[0m\n",
      "\u001b[32m✨ 2025-02-22 23:31:31,322 - gsm_pipeline - INFO - Training model with top 7 groups...\u001b[0m\n",
      "\u001b[32m✨ 2025-02-22 23:31:31,432 - gsm_pipeline - INFO - Modeling with top 7 groups completed\u001b[0m\n",
      "\u001b[32m✨ 2025-02-22 23:31:31,433 - gsm_pipeline - INFO - Training model with top 6 groups...\u001b[0m\n",
      "\u001b[32m✨ 2025-02-22 23:31:31,539 - gsm_pipeline - INFO - Modeling with top 6 groups completed\u001b[0m\n",
      "\u001b[32m✨ 2025-02-22 23:31:31,540 - gsm_pipeline - INFO - Training model with top 5 groups...\u001b[0m\n",
      "\u001b[32m✨ 2025-02-22 23:31:31,647 - gsm_pipeline - INFO - Modeling with top 5 groups completed\u001b[0m\n",
      "\u001b[32m✨ 2025-02-22 23:31:31,648 - gsm_pipeline - INFO - Training model with top 4 groups...\u001b[0m\n",
      "\u001b[32m✨ 2025-02-22 23:31:31,753 - gsm_pipeline - INFO - Modeling with top 4 groups completed\u001b[0m\n",
      "\u001b[32m✨ 2025-02-22 23:31:31,754 - gsm_pipeline - INFO - Training model with top 3 groups...\u001b[0m\n",
      "\u001b[32m✨ 2025-02-22 23:31:31,860 - gsm_pipeline - INFO - Modeling with top 3 groups completed\u001b[0m\n",
      "\u001b[32m✨ 2025-02-22 23:31:31,861 - gsm_pipeline - INFO - Training model with top 2 groups...\u001b[0m\n",
      "\u001b[32m✨ 2025-02-22 23:31:31,969 - gsm_pipeline - INFO - Modeling with top 2 groups completed\u001b[0m\n",
      "\u001b[32m✨ 2025-02-22 23:31:31,970 - gsm_pipeline - INFO - Training model with top 1 groups...\u001b[0m\n",
      "\u001b[32m✨ 2025-02-22 23:31:32,081 - gsm_pipeline - INFO - Modeling with top 1 groups completed\u001b[0m\n",
      "\u001b[32m✨ 2025-02-22 23:31:32,082 - gsm_pipeline - INFO - Modeling completed successfully.\u001b[0m\n",
      "\u001b[32m✨ 2025-02-22 23:31:32,083 - gsm_pipeline - INFO - Iteration 1 for gsm_main_loop completed.\u001b[0m\n",
      "\u001b[32m✨ 2025-02-22 23:31:32,083 - gsm_pipeline - INFO - Iteration 2 for gsm_main_loop started...\u001b[0m\n",
      "\u001b[32m✨ 2025-02-22 23:31:32,084 - gsm_pipeline - INFO - Random seed set to: 2042\u001b[0m\n",
      "\u001b[32m✨ 2025-02-22 23:31:32,085 - gsm_pipeline - INFO - ##### Starting GSM Main Loop #####\u001b[0m\n",
      "\u001b[32m✨ 2025-02-22 23:31:32,086 - gsm_pipeline - INFO - 📊 Splitting data into training and testing sets...\u001b[0m\n",
      "\u001b[32m✨ 2025-02-22 23:31:32,098 - gsm_pipeline - INFO - Data split completed.\u001b[0m\n",
      "\u001b[32m✨ 2025-02-22 23:31:32,099 - gsm_pipeline - INFO - 🔍 Applying preliminary t-test filter...\u001b[0m\n",
      "\u001b[32m✨ 2025-02-22 23:31:32,100 - gsm_pipeline - INFO - Starting preliminary filtering...\u001b[0m\n",
      "\u001b[32m✨ 2025-02-22 23:31:32,102 - gsm_pipeline - INFO - ##### Running t-test on 135 genes #####\u001b[0m\n",
      "\u001b[32m✨ 2025-02-22 23:31:32,104 - gsm_pipeline - INFO - Applying fdr_bh correction\u001b[0m\n",
      "\u001b[32m✨ 2025-02-22 23:31:32,105 - gsm_pipeline - INFO - ✅ Selected 59 significant genes\u001b[0m\n",
      "\u001b[32m✨ 2025-02-22 23:31:32,106 - gsm_pipeline - INFO - ✅ Final selection: 59 genes after size filter (INITIAL_FEATURE_FILTER_SIZE=1000)\u001b[0m\n",
      "\u001b[32m✨ 2025-02-22 23:31:32,107 - gsm_pipeline - INFO - Preliminary filtering completed. Selected 59 features.\u001b[0m\n",
      "\u001b[32m✨ 2025-02-22 23:31:32,108 - gsm_pipeline - INFO - Preliminary filtering completed.\u001b[0m\n",
      "\u001b[32m✨ 2025-02-22 23:31:32,109 - gsm_pipeline - INFO - 🔗 Running gene grouping analysis...\u001b[0m\n",
      "\u001b[32m✨ 2025-02-22 23:31:32,111 - gsm_pipeline - INFO - 🔄 Starting grouping process...\u001b[0m\n",
      "\u001b[32m✨ 2025-02-22 23:31:32,112 - gsm_pipeline - INFO - ✅ Grouping data validation successful\u001b[0m\n",
      "\u001b[32m✨ 2025-02-22 23:31:32,112 - gsm_pipeline - INFO - ✅ Successfully processed 26 feature groups\u001b[0m\n",
      "\u001b[32m✨ 2025-02-22 23:31:32,114 - gsm_pipeline - INFO - Grouping completed.\u001b[0m\n",
      "\u001b[32m✨ 2025-02-22 23:31:32,115 - gsm_pipeline - INFO - 📈 Evaluating group performance...\u001b[0m\n",
      "\u001b[32m✨ 2025-02-22 23:31:32,116 - gsm_pipeline - INFO - 🎯 Starting feature scoring...\u001b[0m\n",
      "\u001b[32m✨ 2025-02-22 23:31:32,116 - gsm_pipeline - INFO - 📊 Scoring 135 features...\u001b[0m\n",
      "\u001b[32m✨ 2025-02-22 23:31:32,637 - gsm_pipeline - INFO - ✅ Feature scoring completed\u001b[0m\n",
      "\u001b[32m✨ 2025-02-22 23:31:32,638 - gsm_pipeline - INFO - ✅ Completed scoring 135 features\u001b[0m\n",
      "\u001b[32m✨ 2025-02-22 23:31:32,639 - gsm_pipeline - INFO - 🔄 Starting group scoring process...\u001b[0m\n"
     ]
    },
    {
     "name": "stderr",
     "output_type": "stream",
     "text": [
      "📊 Scoring groups: 100%|██████████| 26/26 [00:12<00:00,  2.07it/s]"
     ]
    },
    {
     "name": "stdout",
     "output_type": "stream",
     "text": [
      "\u001b[32m✨ 2025-02-22 23:31:45,220 - gsm_pipeline - INFO - 🏆 Ranking metrics by f1...\u001b[0m\n",
      "\u001b[36m🔍 2025-02-22 23:31:45,221 - gsm_pipeline - DEBUG - ✅ Ranking complete. Top score: 0.609\u001b[0m\n",
      "\u001b[32m✨ 2025-02-22 23:31:45,222 - gsm_pipeline - INFO - 🔄 Starting to save ranked groups to Excel...\u001b[0m\n",
      "\u001b[32m✨ 2025-02-22 23:31:45,232 - gsm_pipeline - INFO - ✅ Successfully saved ranked groups to: /home/yasin/GSM-to-python/output/20250222-233117/ranked_groups_iteration_2.xlsx\u001b[0m\n",
      "\u001b[32m✨ 2025-02-22 23:31:45,233 - gsm_pipeline - INFO - 💾 Saving ranked features to /home/yasin/GSM-to-python/output/20250222-233117/ranked_features_iteration_2.xlsx\u001b[0m\n",
      "\u001b[32m✨ 2025-02-22 23:31:45,252 - gsm_pipeline - INFO - ✅ Successfully saved 135 ranked features to Excel\u001b[0m\n",
      "\u001b[32m✨ 2025-02-22 23:31:45,253 - gsm_pipeline - INFO - Scoring completed.\u001b[0m\n",
      "\u001b[32m✨ 2025-02-22 23:31:45,254 - gsm_pipeline - INFO - 🤖 Training and evaluating models...\u001b[0m\n",
      "\u001b[32m✨ 2025-02-22 23:31:45,254 - gsm_pipeline - INFO - Training model with top 10 groups...\u001b[0m\n",
      "\u001b[32m✨ 2025-02-22 23:31:45,382 - gsm_pipeline - INFO - Modeling with top 10 groups completed\u001b[0m\n",
      "\u001b[32m✨ 2025-02-22 23:31:45,382 - gsm_pipeline - INFO - Training model with top 9 groups...\u001b[0m\n"
     ]
    },
    {
     "name": "stderr",
     "output_type": "stream",
     "text": [
      "\n"
     ]
    },
    {
     "name": "stdout",
     "output_type": "stream",
     "text": [
      "\u001b[32m✨ 2025-02-22 23:31:45,490 - gsm_pipeline - INFO - Modeling with top 9 groups completed\u001b[0m\n",
      "\u001b[32m✨ 2025-02-22 23:31:45,491 - gsm_pipeline - INFO - Training model with top 8 groups...\u001b[0m\n",
      "\u001b[32m✨ 2025-02-22 23:31:45,597 - gsm_pipeline - INFO - Modeling with top 8 groups completed\u001b[0m\n",
      "\u001b[32m✨ 2025-02-22 23:31:45,597 - gsm_pipeline - INFO - Training model with top 7 groups...\u001b[0m\n",
      "\u001b[32m✨ 2025-02-22 23:31:45,704 - gsm_pipeline - INFO - Modeling with top 7 groups completed\u001b[0m\n",
      "\u001b[32m✨ 2025-02-22 23:31:45,705 - gsm_pipeline - INFO - Training model with top 6 groups...\u001b[0m\n",
      "\u001b[32m✨ 2025-02-22 23:31:45,809 - gsm_pipeline - INFO - Modeling with top 6 groups completed\u001b[0m\n",
      "\u001b[32m✨ 2025-02-22 23:31:45,810 - gsm_pipeline - INFO - Training model with top 5 groups...\u001b[0m\n",
      "\u001b[32m✨ 2025-02-22 23:31:45,916 - gsm_pipeline - INFO - Modeling with top 5 groups completed\u001b[0m\n",
      "\u001b[32m✨ 2025-02-22 23:31:45,917 - gsm_pipeline - INFO - Training model with top 4 groups...\u001b[0m\n",
      "\u001b[32m✨ 2025-02-22 23:31:46,027 - gsm_pipeline - INFO - Modeling with top 4 groups completed\u001b[0m\n",
      "\u001b[32m✨ 2025-02-22 23:31:46,028 - gsm_pipeline - INFO - Training model with top 3 groups...\u001b[0m\n",
      "\u001b[32m✨ 2025-02-22 23:31:46,138 - gsm_pipeline - INFO - Modeling with top 3 groups completed\u001b[0m\n",
      "\u001b[32m✨ 2025-02-22 23:31:46,139 - gsm_pipeline - INFO - Training model with top 2 groups...\u001b[0m\n",
      "\u001b[32m✨ 2025-02-22 23:31:46,249 - gsm_pipeline - INFO - Modeling with top 2 groups completed\u001b[0m\n",
      "\u001b[32m✨ 2025-02-22 23:31:46,250 - gsm_pipeline - INFO - Training model with top 1 groups...\u001b[0m\n",
      "\u001b[32m✨ 2025-02-22 23:31:46,357 - gsm_pipeline - INFO - Modeling with top 1 groups completed\u001b[0m\n",
      "\u001b[32m✨ 2025-02-22 23:31:46,358 - gsm_pipeline - INFO - Modeling completed successfully.\u001b[0m\n",
      "\u001b[32m✨ 2025-02-22 23:31:46,359 - gsm_pipeline - INFO - Iteration 2 for gsm_main_loop completed.\u001b[0m\n",
      "\u001b[32m✨ 2025-02-22 23:31:46,360 - gsm_pipeline - INFO - Iteration 3 for gsm_main_loop started...\u001b[0m\n",
      "\u001b[32m✨ 2025-02-22 23:31:46,361 - gsm_pipeline - INFO - Random seed set to: 3042\u001b[0m\n",
      "\u001b[32m✨ 2025-02-22 23:31:46,362 - gsm_pipeline - INFO - ##### Starting GSM Main Loop #####\u001b[0m\n",
      "\u001b[32m✨ 2025-02-22 23:31:46,363 - gsm_pipeline - INFO - 📊 Splitting data into training and testing sets...\u001b[0m\n",
      "\u001b[32m✨ 2025-02-22 23:31:46,377 - gsm_pipeline - INFO - Data split completed.\u001b[0m\n",
      "\u001b[32m✨ 2025-02-22 23:31:46,378 - gsm_pipeline - INFO - 🔍 Applying preliminary t-test filter...\u001b[0m\n",
      "\u001b[32m✨ 2025-02-22 23:31:46,379 - gsm_pipeline - INFO - Starting preliminary filtering...\u001b[0m\n",
      "\u001b[32m✨ 2025-02-22 23:31:46,381 - gsm_pipeline - INFO - ##### Running t-test on 135 genes #####\u001b[0m\n",
      "\u001b[32m✨ 2025-02-22 23:31:46,384 - gsm_pipeline - INFO - Applying fdr_bh correction\u001b[0m\n",
      "\u001b[32m✨ 2025-02-22 23:31:46,385 - gsm_pipeline - INFO - ✅ Selected 59 significant genes\u001b[0m\n",
      "\u001b[32m✨ 2025-02-22 23:31:46,386 - gsm_pipeline - INFO - ✅ Final selection: 59 genes after size filter (INITIAL_FEATURE_FILTER_SIZE=1000)\u001b[0m\n",
      "\u001b[32m✨ 2025-02-22 23:31:46,387 - gsm_pipeline - INFO - Preliminary filtering completed. Selected 59 features.\u001b[0m\n",
      "\u001b[32m✨ 2025-02-22 23:31:46,388 - gsm_pipeline - INFO - Preliminary filtering completed.\u001b[0m\n",
      "\u001b[32m✨ 2025-02-22 23:31:46,388 - gsm_pipeline - INFO - 🔗 Running gene grouping analysis...\u001b[0m\n",
      "\u001b[32m✨ 2025-02-22 23:31:46,390 - gsm_pipeline - INFO - 🔄 Starting grouping process...\u001b[0m\n",
      "\u001b[32m✨ 2025-02-22 23:31:46,391 - gsm_pipeline - INFO - ✅ Grouping data validation successful\u001b[0m\n",
      "\u001b[32m✨ 2025-02-22 23:31:46,393 - gsm_pipeline - INFO - ✅ Successfully processed 26 feature groups\u001b[0m\n",
      "\u001b[32m✨ 2025-02-22 23:31:46,394 - gsm_pipeline - INFO - Grouping completed.\u001b[0m\n",
      "\u001b[32m✨ 2025-02-22 23:31:46,394 - gsm_pipeline - INFO - 📈 Evaluating group performance...\u001b[0m\n",
      "\u001b[32m✨ 2025-02-22 23:31:46,395 - gsm_pipeline - INFO - 🎯 Starting feature scoring...\u001b[0m\n",
      "\u001b[32m✨ 2025-02-22 23:31:46,395 - gsm_pipeline - INFO - 📊 Scoring 135 features...\u001b[0m\n",
      "\u001b[32m✨ 2025-02-22 23:31:46,926 - gsm_pipeline - INFO - ✅ Feature scoring completed\u001b[0m\n",
      "\u001b[32m✨ 2025-02-22 23:31:46,927 - gsm_pipeline - INFO - ✅ Completed scoring 135 features\u001b[0m\n",
      "\u001b[32m✨ 2025-02-22 23:31:46,928 - gsm_pipeline - INFO - 🔄 Starting group scoring process...\u001b[0m\n"
     ]
    },
    {
     "name": "stderr",
     "output_type": "stream",
     "text": [
      "📊 Scoring groups: 100%|██████████| 26/26 [00:12<00:00,  2.03it/s]"
     ]
    },
    {
     "name": "stdout",
     "output_type": "stream",
     "text": [
      "\u001b[32m✨ 2025-02-22 23:31:59,763 - gsm_pipeline - INFO - 🏆 Ranking metrics by f1...\u001b[0m\n",
      "\u001b[36m🔍 2025-02-22 23:31:59,764 - gsm_pipeline - DEBUG - ✅ Ranking complete. Top score: 0.609\u001b[0m\n",
      "\u001b[32m✨ 2025-02-22 23:31:59,765 - gsm_pipeline - INFO - 🔄 Starting to save ranked groups to Excel...\u001b[0m\n",
      "\u001b[32m✨ 2025-02-22 23:31:59,780 - gsm_pipeline - INFO - ✅ Successfully saved ranked groups to: /home/yasin/GSM-to-python/output/20250222-233117/ranked_groups_iteration_3.xlsx\u001b[0m\n",
      "\u001b[32m✨ 2025-02-22 23:31:59,781 - gsm_pipeline - INFO - 💾 Saving ranked features to /home/yasin/GSM-to-python/output/20250222-233117/ranked_features_iteration_3.xlsx\u001b[0m\n",
      "\u001b[32m✨ 2025-02-22 23:31:59,799 - gsm_pipeline - INFO - ✅ Successfully saved 135 ranked features to Excel\u001b[0m\n",
      "\u001b[32m✨ 2025-02-22 23:31:59,800 - gsm_pipeline - INFO - Scoring completed.\u001b[0m\n",
      "\u001b[32m✨ 2025-02-22 23:31:59,800 - gsm_pipeline - INFO - 🤖 Training and evaluating models...\u001b[0m\n",
      "\u001b[32m✨ 2025-02-22 23:31:59,801 - gsm_pipeline - INFO - Training model with top 10 groups...\u001b[0m\n",
      "\u001b[32m✨ 2025-02-22 23:31:59,904 - gsm_pipeline - INFO - Modeling with top 10 groups completed\u001b[0m\n",
      "\u001b[32m✨ 2025-02-22 23:31:59,905 - gsm_pipeline - INFO - Training model with top 9 groups...\u001b[0m\n"
     ]
    },
    {
     "name": "stderr",
     "output_type": "stream",
     "text": [
      "\n"
     ]
    },
    {
     "name": "stdout",
     "output_type": "stream",
     "text": [
      "\u001b[32m✨ 2025-02-22 23:32:00,018 - gsm_pipeline - INFO - Modeling with top 9 groups completed\u001b[0m\n",
      "\u001b[32m✨ 2025-02-22 23:32:00,019 - gsm_pipeline - INFO - Training model with top 8 groups...\u001b[0m\n",
      "\u001b[32m✨ 2025-02-22 23:32:00,123 - gsm_pipeline - INFO - Modeling with top 8 groups completed\u001b[0m\n",
      "\u001b[32m✨ 2025-02-22 23:32:00,124 - gsm_pipeline - INFO - Training model with top 7 groups...\u001b[0m\n",
      "\u001b[32m✨ 2025-02-22 23:32:00,236 - gsm_pipeline - INFO - Modeling with top 7 groups completed\u001b[0m\n",
      "\u001b[32m✨ 2025-02-22 23:32:00,237 - gsm_pipeline - INFO - Training model with top 6 groups...\u001b[0m\n",
      "\u001b[32m✨ 2025-02-22 23:32:00,339 - gsm_pipeline - INFO - Modeling with top 6 groups completed\u001b[0m\n",
      "\u001b[32m✨ 2025-02-22 23:32:00,340 - gsm_pipeline - INFO - Training model with top 5 groups...\u001b[0m\n",
      "\u001b[32m✨ 2025-02-22 23:32:00,442 - gsm_pipeline - INFO - Modeling with top 5 groups completed\u001b[0m\n",
      "\u001b[32m✨ 2025-02-22 23:32:00,443 - gsm_pipeline - INFO - Training model with top 4 groups...\u001b[0m\n",
      "\u001b[32m✨ 2025-02-22 23:32:00,551 - gsm_pipeline - INFO - Modeling with top 4 groups completed\u001b[0m\n",
      "\u001b[32m✨ 2025-02-22 23:32:00,552 - gsm_pipeline - INFO - Training model with top 3 groups...\u001b[0m\n",
      "\u001b[32m✨ 2025-02-22 23:32:00,660 - gsm_pipeline - INFO - Modeling with top 3 groups completed\u001b[0m\n",
      "\u001b[32m✨ 2025-02-22 23:32:00,661 - gsm_pipeline - INFO - Training model with top 2 groups...\u001b[0m\n",
      "\u001b[32m✨ 2025-02-22 23:32:00,763 - gsm_pipeline - INFO - Modeling with top 2 groups completed\u001b[0m\n",
      "\u001b[32m✨ 2025-02-22 23:32:00,764 - gsm_pipeline - INFO - Training model with top 1 groups...\u001b[0m\n",
      "\u001b[32m✨ 2025-02-22 23:32:00,867 - gsm_pipeline - INFO - Modeling with top 1 groups completed\u001b[0m\n",
      "\u001b[32m✨ 2025-02-22 23:32:00,867 - gsm_pipeline - INFO - Modeling completed successfully.\u001b[0m\n",
      "\u001b[32m✨ 2025-02-22 23:32:00,869 - gsm_pipeline - INFO - Iteration 3 for gsm_main_loop completed.\u001b[0m\n",
      "\u001b[32m✨ 2025-02-22 23:32:00,870 - gsm_pipeline - INFO - Saving intermediate results...\u001b[0m\n",
      "\u001b[32m✨ 2025-02-22 23:32:00,871 - gsm_pipeline - INFO - 📁 Created results directory: /home/yasin/GSM-to-python/output/20250222-233117\u001b[0m\n",
      "\u001b[32m✨ 2025-02-22 23:32:00,872 - gsm_pipeline - INFO - 📊 Saved results for iteration 1\u001b[0m\n",
      "\u001b[32m✨ 2025-02-22 23:32:00,874 - gsm_pipeline - INFO - 📊 Saved results for iteration 2\u001b[0m\n",
      "\u001b[32m✨ 2025-02-22 23:32:00,875 - gsm_pipeline - INFO - 📊 Saved results for iteration 3\u001b[0m\n",
      "\u001b[32m✨ 2025-02-22 23:32:00,900 - gsm_pipeline - INFO - 📊 Saved statistics summary to /home/yasin/GSM-to-python/output/20250222-233117/modeling_results_statistics.xlsx\u001b[0m\n",
      "\u001b[32m✨ 2025-02-22 23:32:00,901 - gsm_pipeline - INFO - Intermediate results saved.\u001b[0m\n",
      "\u001b[32m✨ 2025-02-22 23:32:00,902 - gsm_pipeline - INFO - GSM pipeline completed successfully.\u001b[0m\n"
     ]
    }
   ],
   "source": [
    "%load_ext autoreload\n",
    "%autoreload 2\n",
    "%reload_ext autoreload\n",
    "\n",
    "from config import INPUT_EXPRESSION_DATA, INPUT_GROUP_DATA\n",
    "from data_processing import data_loader\n",
    "import GSM_pipeline\n",
    "import pathlib\n",
    "from utils import logger\n",
    "\n",
    "project_folder = pathlib.Path().resolve().parent\n",
    "print(f\"Project Folder: {project_folder}\")\n",
    "\n",
    "# Now you can import the GSM_pipeline module\n",
    "input_file = project_folder / INPUT_EXPRESSION_DATA\n",
    "group_file = project_folder / INPUT_GROUP_DATA\n",
    "\n",
    "input_data = data_loader.load_input_file(input_file)\n",
    "group_data = data_loader.load_group_file(group_file)\n",
    "\n",
    "GSM_pipeline.gsm_run(input_data, group_data)"
   ]
  }
 ],
 "metadata": {
  "kernelspec": {
   "display_name": "conda_env",
   "language": "python",
   "name": "python3"
  },
  "language_info": {
   "codemirror_mode": {
    "name": "ipython",
    "version": 3
   },
   "file_extension": ".py",
   "mimetype": "text/x-python",
   "name": "python",
   "nbconvert_exporter": "python",
   "pygments_lexer": "ipython3",
   "version": "3.9.18"
  }
 },
 "nbformat": 4,
 "nbformat_minor": 2
}
