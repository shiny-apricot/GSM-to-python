{
 "cells": [
  {
   "cell_type": "code",
   "execution_count": 8,
   "metadata": {},
   "outputs": [
    {
     "name": "stdout",
     "output_type": "stream",
     "text": [
      "The autoreload extension is already loaded. To reload it, use:\n",
      "  %reload_ext autoreload\n",
      "Project Folder: /home/yasin/GSM-to-python\n",
      "/home/yasin/GSM-to-python/data/test/test_main_data.csv\n",
      "\u001b[32m✨ 2025-04-09 16:48:33,604 - gsm_pipeline - INFO - 🚀 Starting GSM pipeline...\u001b[0m\n",
      "\u001b[32m✨ 2025-04-09 16:48:33,605 - gsm_pipeline - INFO - Start data preprocessing.\u001b[0m\n",
      "\u001b[32m✨ 2025-04-09 16:48:33,611 - gsm_pipeline - INFO - Starting data normalization using zscore method\u001b[0m\n",
      "\u001b[32m✨ 2025-04-09 16:48:33,639 - gsm_pipeline - INFO - Data normalization completed successfully\u001b[0m\n"
     ]
    },
    {
     "ename": "KeyError",
     "evalue": "'0'",
     "output_type": "error",
     "traceback": [
      "\u001b[31m---------------------------------------------------------------------------\u001b[39m",
      "\u001b[31mKeyError\u001b[39m                                  Traceback (most recent call last)",
      "\u001b[36mFile \u001b[39m\u001b[32m~/GSM-to-python/venv/lib/python3.12/site-packages/pandas/core/indexes/base.py:3805\u001b[39m, in \u001b[36mIndex.get_loc\u001b[39m\u001b[34m(self, key)\u001b[39m\n\u001b[32m   3804\u001b[39m \u001b[38;5;28;01mtry\u001b[39;00m:\n\u001b[32m-> \u001b[39m\u001b[32m3805\u001b[39m     \u001b[38;5;28;01mreturn\u001b[39;00m \u001b[38;5;28;43mself\u001b[39;49m\u001b[43m.\u001b[49m\u001b[43m_engine\u001b[49m\u001b[43m.\u001b[49m\u001b[43mget_loc\u001b[49m\u001b[43m(\u001b[49m\u001b[43mcasted_key\u001b[49m\u001b[43m)\u001b[49m\n\u001b[32m   3806\u001b[39m \u001b[38;5;28;01mexcept\u001b[39;00m \u001b[38;5;167;01mKeyError\u001b[39;00m \u001b[38;5;28;01mas\u001b[39;00m err:\n",
      "\u001b[36mFile \u001b[39m\u001b[32mindex.pyx:167\u001b[39m, in \u001b[36mpandas._libs.index.IndexEngine.get_loc\u001b[39m\u001b[34m()\u001b[39m\n",
      "\u001b[36mFile \u001b[39m\u001b[32mindex.pyx:196\u001b[39m, in \u001b[36mpandas._libs.index.IndexEngine.get_loc\u001b[39m\u001b[34m()\u001b[39m\n",
      "\u001b[36mFile \u001b[39m\u001b[32mpandas/_libs/hashtable_class_helper.pxi:7081\u001b[39m, in \u001b[36mpandas._libs.hashtable.PyObjectHashTable.get_item\u001b[39m\u001b[34m()\u001b[39m\n",
      "\u001b[36mFile \u001b[39m\u001b[32mpandas/_libs/hashtable_class_helper.pxi:7089\u001b[39m, in \u001b[36mpandas._libs.hashtable.PyObjectHashTable.get_item\u001b[39m\u001b[34m()\u001b[39m\n",
      "\u001b[31mKeyError\u001b[39m: '0'",
      "\nThe above exception was the direct cause of the following exception:\n",
      "\u001b[31mKeyError\u001b[39m                                  Traceback (most recent call last)",
      "\u001b[36mCell\u001b[39m\u001b[36m \u001b[39m\u001b[32mIn[8]\u001b[39m\u001b[32m, line 21\u001b[39m\n\u001b[32m     18\u001b[39m input_data = data_loader.load_input_file(input_file)\n\u001b[32m     19\u001b[39m group_data = data_loader.load_group_file(group_file)\n\u001b[32m---> \u001b[39m\u001b[32m21\u001b[39m \u001b[43mGSM_pipeline\u001b[49m\u001b[43m.\u001b[49m\u001b[43mgsm_run\u001b[49m\u001b[43m(\u001b[49m\u001b[43minput_data\u001b[49m\u001b[43m,\u001b[49m\u001b[43m \u001b[49m\u001b[43mgroup_data\u001b[49m\u001b[43m)\u001b[49m\n",
      "\u001b[36mFile \u001b[39m\u001b[32m~/GSM-to-python/src/GSM_pipeline.py:116\u001b[39m, in \u001b[36mgsm_run\u001b[39m\u001b[34m(input_data, group_data, sample_ratio, n_iterations, model_name, label_column, normalization_method, initial_seed, logger_path, notebook_mode)\u001b[39m\n\u001b[32m    114\u001b[39m \u001b[38;5;66;03m# Run the GSM pipeline\u001b[39;00m\n\u001b[32m    115\u001b[39m logger.info(\u001b[33m\"\u001b[39m\u001b[33mStart data preprocessing.\u001b[39m\u001b[33m\"\u001b[39m)\n\u001b[32m--> \u001b[39m\u001b[32m116\u001b[39m data_preprocessed_train, data_preprocessed_test = \u001b[43mpreprocess_data\u001b[49m\u001b[43m(\u001b[49m\n\u001b[32m    117\u001b[39m \u001b[43m    \u001b[49m\u001b[43minput_data\u001b[49m\u001b[43m,\u001b[49m\n\u001b[32m    118\u001b[39m \u001b[43m    \u001b[49m\u001b[43mlabel_column\u001b[49m\u001b[43m,\u001b[49m\n\u001b[32m    119\u001b[39m \u001b[43m    \u001b[49m\u001b[43mlogger\u001b[49m\u001b[43m=\u001b[49m\u001b[43mlogger\u001b[49m\u001b[43m,\u001b[49m\n\u001b[32m    120\u001b[39m \u001b[43m    \u001b[49m\u001b[43mlabel_of_negative_class\u001b[49m\u001b[43m=\u001b[49m\u001b[43mCLASS_LABELS_NEGATIVE\u001b[49m\u001b[43m,\u001b[49m\n\u001b[32m    121\u001b[39m \u001b[43m    \u001b[49m\u001b[43mlabel_of_positive_class\u001b[49m\u001b[43m=\u001b[49m\u001b[43mCLASS_LABELS_POSITIVE\u001b[49m\u001b[43m,\u001b[49m\n\u001b[32m    122\u001b[39m \u001b[43m    \u001b[49m\u001b[43mnormalization_method\u001b[49m\u001b[43m=\u001b[49m\u001b[43mnormalization_method\u001b[49m\n\u001b[32m    123\u001b[39m \u001b[43m\u001b[49m\u001b[43m)\u001b[49m\n\u001b[32m    124\u001b[39m logger.info(\u001b[33m\"\u001b[39m\u001b[33mData preprocessing completed.\u001b[39m\u001b[33m\"\u001b[39m)\n\u001b[32m    126\u001b[39m group_data_processed = preprocess_grouping_data(group_data, logger=logger)\n",
      "\u001b[36mFile \u001b[39m\u001b[32m~/GSM-to-python/src/data_processing/data_preprocess.py:121\u001b[39m, in \u001b[36mpreprocess_data\u001b[39m\u001b[34m(input_data, label_column_name, label_of_negative_class, label_of_positive_class, logger, test_size, normalization_method, random_state)\u001b[39m\n\u001b[32m    115\u001b[39m \u001b[38;5;66;03m# Normalize features\u001b[39;00m\n\u001b[32m    116\u001b[39m normalized_data = normalize_data(input_data,\n\u001b[32m    117\u001b[39m                                  label_column_name=label_column_name,\n\u001b[32m    118\u001b[39m                                  logger=logger,\n\u001b[32m    119\u001b[39m                                  method=normalization_method)\n\u001b[32m--> \u001b[39m\u001b[32m121\u001b[39m sampled_data = \u001b[43mdetermine_class_balance\u001b[49m\u001b[43m(\u001b[49m\u001b[43mnormalized_data\u001b[49m\u001b[43m,\u001b[49m\u001b[43m \u001b[49m\n\u001b[32m    122\u001b[39m \u001b[43m                                       \u001b[49m\u001b[43mlogger\u001b[49m\u001b[43m=\u001b[49m\u001b[43mlogger\u001b[49m\u001b[43m,\u001b[49m\n\u001b[32m    123\u001b[39m \u001b[43m                                       \u001b[49m\u001b[43mmin_class_balance_ratio\u001b[49m\u001b[43m=\u001b[49m\u001b[32;43m0.5\u001b[39;49m\u001b[43m,\u001b[49m\n\u001b[32m    124\u001b[39m \u001b[43m                                       \u001b[49m\u001b[43msampling_method\u001b[49m\u001b[43m=\u001b[49m\u001b[33;43m'\u001b[39;49m\u001b[33;43mundersampling\u001b[39;49m\u001b[33;43m'\u001b[39;49m\u001b[43m)\u001b[49m\n\u001b[32m    125\u001b[39m logger.info(\u001b[33mf\u001b[39m\u001b[33m\"\u001b[39m\u001b[33mSampled data size: \u001b[39m\u001b[38;5;132;01m{\u001b[39;00msampled_data.shape\u001b[38;5;132;01m}\u001b[39;00m\u001b[33m\"\u001b[39m)\n\u001b[32m    127\u001b[39m \u001b[38;5;66;03m# Split data\u001b[39;00m\n",
      "\u001b[36mFile \u001b[39m\u001b[32m<string>:18\u001b[39m, in \u001b[36mdetermine_class_balance\u001b[39m\u001b[34m(data, logger, min_class_balance_ratio, sampling_method)\u001b[39m\n",
      "\u001b[36mFile \u001b[39m\u001b[32m~/GSM-to-python/venv/lib/python3.12/site-packages/pandas/core/frame.py:4102\u001b[39m, in \u001b[36mDataFrame.__getitem__\u001b[39m\u001b[34m(self, key)\u001b[39m\n\u001b[32m   4100\u001b[39m \u001b[38;5;28;01mif\u001b[39;00m \u001b[38;5;28mself\u001b[39m.columns.nlevels > \u001b[32m1\u001b[39m:\n\u001b[32m   4101\u001b[39m     \u001b[38;5;28;01mreturn\u001b[39;00m \u001b[38;5;28mself\u001b[39m._getitem_multilevel(key)\n\u001b[32m-> \u001b[39m\u001b[32m4102\u001b[39m indexer = \u001b[38;5;28;43mself\u001b[39;49m\u001b[43m.\u001b[49m\u001b[43mcolumns\u001b[49m\u001b[43m.\u001b[49m\u001b[43mget_loc\u001b[49m\u001b[43m(\u001b[49m\u001b[43mkey\u001b[49m\u001b[43m)\u001b[49m\n\u001b[32m   4103\u001b[39m \u001b[38;5;28;01mif\u001b[39;00m is_integer(indexer):\n\u001b[32m   4104\u001b[39m     indexer = [indexer]\n",
      "\u001b[36mFile \u001b[39m\u001b[32m~/GSM-to-python/venv/lib/python3.12/site-packages/pandas/core/indexes/base.py:3812\u001b[39m, in \u001b[36mIndex.get_loc\u001b[39m\u001b[34m(self, key)\u001b[39m\n\u001b[32m   3807\u001b[39m     \u001b[38;5;28;01mif\u001b[39;00m \u001b[38;5;28misinstance\u001b[39m(casted_key, \u001b[38;5;28mslice\u001b[39m) \u001b[38;5;129;01mor\u001b[39;00m (\n\u001b[32m   3808\u001b[39m         \u001b[38;5;28misinstance\u001b[39m(casted_key, abc.Iterable)\n\u001b[32m   3809\u001b[39m         \u001b[38;5;129;01mand\u001b[39;00m \u001b[38;5;28many\u001b[39m(\u001b[38;5;28misinstance\u001b[39m(x, \u001b[38;5;28mslice\u001b[39m) \u001b[38;5;28;01mfor\u001b[39;00m x \u001b[38;5;129;01min\u001b[39;00m casted_key)\n\u001b[32m   3810\u001b[39m     ):\n\u001b[32m   3811\u001b[39m         \u001b[38;5;28;01mraise\u001b[39;00m InvalidIndexError(key)\n\u001b[32m-> \u001b[39m\u001b[32m3812\u001b[39m     \u001b[38;5;28;01mraise\u001b[39;00m \u001b[38;5;167;01mKeyError\u001b[39;00m(key) \u001b[38;5;28;01mfrom\u001b[39;00m\u001b[38;5;250m \u001b[39m\u001b[34;01merr\u001b[39;00m\n\u001b[32m   3813\u001b[39m \u001b[38;5;28;01mexcept\u001b[39;00m \u001b[38;5;167;01mTypeError\u001b[39;00m:\n\u001b[32m   3814\u001b[39m     \u001b[38;5;66;03m# If we have a listlike key, _check_indexing_error will raise\u001b[39;00m\n\u001b[32m   3815\u001b[39m     \u001b[38;5;66;03m#  InvalidIndexError. Otherwise we fall through and re-raise\u001b[39;00m\n\u001b[32m   3816\u001b[39m     \u001b[38;5;66;03m#  the TypeError.\u001b[39;00m\n\u001b[32m   3817\u001b[39m     \u001b[38;5;28mself\u001b[39m._check_indexing_error(key)\n",
      "\u001b[31mKeyError\u001b[39m: '0'"
     ]
    }
   ],
   "source": [
    "%load_ext autoreload\n",
    "%autoreload 2\n",
    "%reload_ext autoreload\n",
    "\n",
    "from config import INPUT_EXPRESSION_DATA, INPUT_GROUP_DATA\n",
    "from data_processing import data_loader\n",
    "import GSM_pipeline\n",
    "import pathlib\n",
    "from utils import logger\n",
    "\n",
    "project_folder = pathlib.Path().resolve().parent\n",
    "print(f\"Project Folder: {project_folder}\")\n",
    "\n",
    "# Now you can import the GSM_pipeline module\n",
    "input_file = project_folder / INPUT_EXPRESSION_DATA\n",
    "group_file = project_folder / INPUT_GROUP_DATA\n",
    "\n",
    "input_data = data_loader.load_input_file(input_file)\n",
    "group_data = data_loader.load_group_file(group_file)\n",
    "\n",
    "GSM_pipeline.gsm_run(input_data, group_data)"
   ]
  }
 ],
 "metadata": {
  "kernelspec": {
   "display_name": "venv",
   "language": "python",
   "name": "python3"
  },
  "language_info": {
   "codemirror_mode": {
    "name": "ipython",
    "version": 3
   },
   "file_extension": ".py",
   "mimetype": "text/x-python",
   "name": "python",
   "nbconvert_exporter": "python",
   "pygments_lexer": "ipython3",
   "version": "3.12.3"
  }
 },
 "nbformat": 4,
 "nbformat_minor": 2
}
