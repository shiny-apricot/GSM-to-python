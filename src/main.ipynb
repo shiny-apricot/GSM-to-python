{
 "cells": [
  {
   "cell_type": "code",
   "execution_count": 10,
   "metadata": {},
   "outputs": [
    {
     "name": "stdout",
     "output_type": "stream",
     "text": [
      "The autoreload extension is already loaded. To reload it, use:\n",
      "  %reload_ext autoreload\n",
      "Project Folder: /home/yasin/GSM-to-python\n",
      "/home/yasin/GSM-to-python/data/test/test_main_data.csv\n",
      "\u001b[32m✨ 2025-01-21 21:08:28,649 - gsm_pipeline - INFO - 🚀 Starting GSM pipeline...\u001b[0m\n",
      "\u001b[32m✨ 2025-01-21 21:08:28,650 - gsm_pipeline - INFO - Start data preprocessing.\u001b[0m\n",
      "\u001b[32m✨ 2025-01-21 21:08:28,652 - gsm_pipeline - INFO - Starting data normalization using zscore method\u001b[0m\n",
      "\u001b[32m✨ 2025-01-21 21:08:28,666 - gsm_pipeline - INFO - Data normalization completed successfully\u001b[0m\n",
      "\u001b[32m✨ 2025-01-21 21:08:28,677 - gsm_pipeline - INFO - Data preprocessing completed.\u001b[0m\n",
      "\u001b[32m✨ 2025-01-21 21:08:28,678 - gsm_pipeline - INFO - Grouping data preprocessing completed.\u001b[0m\n",
      "\u001b[32m✨ 2025-01-21 21:08:28,679 - gsm_pipeline - INFO - Iteration 0 for gsm_main_loop started...\u001b[0m\n",
      "\u001b[32m✨ 2025-01-21 21:08:28,680 - gsm_pipeline - INFO - ##### Starting GSM Main Loop #####\u001b[0m\n",
      "\u001b[32m✨ 2025-01-21 21:08:28,681 - gsm_pipeline - INFO - 📊 Splitting data into training and testing sets...\u001b[0m\n",
      "\u001b[32m✨ 2025-01-21 21:08:28,693 - gsm_pipeline - INFO - Data split completed.\u001b[0m\n",
      "\u001b[32m✨ 2025-01-21 21:08:28,694 - gsm_pipeline - INFO - 🔍 Applying preliminary t-test filter...\u001b[0m\n",
      "\u001b[32m✨ 2025-01-21 21:08:28,695 - gsm_pipeline - INFO - Starting preliminary filtering...\u001b[0m\n",
      "\u001b[32m✨ 2025-01-21 21:08:28,697 - gsm_pipeline - INFO - ##### Running t-test on 135 genes #####\u001b[0m\n",
      "\u001b[32m✨ 2025-01-21 21:08:28,700 - gsm_pipeline - INFO - Applying fdr_bh correction\u001b[0m\n",
      "\u001b[32m✨ 2025-01-21 21:08:28,702 - gsm_pipeline - INFO - ✅ Selected 59 significant genes\u001b[0m\n",
      "\u001b[32m✨ 2025-01-21 21:08:28,702 - gsm_pipeline - INFO - ✅ Final selection: 59 genes after size filter (INITIAL_FEATURE_FILTER_SIZE=1000)\u001b[0m\n",
      "\u001b[32m✨ 2025-01-21 21:08:28,703 - gsm_pipeline - INFO - Preliminary filtering completed. Selected 59 features.\u001b[0m\n",
      "\u001b[32m✨ 2025-01-21 21:08:28,704 - gsm_pipeline - INFO - Preliminary filtering completed.\u001b[0m\n",
      "\u001b[32m✨ 2025-01-21 21:08:28,705 - gsm_pipeline - INFO - 🔗 Running gene grouping analysis...\u001b[0m\n",
      "\u001b[32m✨ 2025-01-21 21:08:28,707 - gsm_pipeline - INFO - ##### Starting grouping process #####\u001b[0m\n",
      "\u001b[32m✨ 2025-01-21 21:08:28,708 - gsm_pipeline - INFO - ✅ Grouping data validation successful\u001b[0m\n",
      "\u001b[32m✨ 2025-01-21 21:08:28,709 - gsm_pipeline - INFO - Creating feature-group mappings...\u001b[0m\n",
      "\u001b[32m✨ 2025-01-21 21:08:28,710 - gsm_pipeline - INFO - ✅ Successfully created 26 feature groups\u001b[0m\n",
      "\u001b[32m✨ 2025-01-21 21:08:28,711 - gsm_pipeline - INFO - Grouping completed.\u001b[0m\n",
      "\u001b[32m✨ 2025-01-21 21:08:28,712 - gsm_pipeline - INFO - 📈 Evaluating group performance...\u001b[0m\n",
      "\u001b[32m✨ 2025-01-21 21:08:28,713 - gsm_pipeline - INFO - 🔄 Starting group scoring process...\u001b[0m\n"
     ]
    },
    {
     "name": "stderr",
     "output_type": "stream",
     "text": [
      "📊 Scoring groups: 100%|█████████████████████| 26/26 [00:12<00:00,  2.09group/s]"
     ]
    },
    {
     "name": "stdout",
     "output_type": "stream",
     "text": [
      "\u001b[32m✨ 2025-01-21 21:08:41,153 - gsm_pipeline - INFO - 🏆 Ranking metrics by f1...\u001b[0m\n",
      "\u001b[36m🔍 2025-01-21 21:08:41,155 - gsm_pipeline - DEBUG - ✅ Ranking complete. Top score: 0.609\u001b[0m\n",
      "\u001b[32m✨ 2025-01-21 21:08:41,156 - gsm_pipeline - INFO - Scoring completed.\u001b[0m\n",
      "\u001b[32m✨ 2025-01-21 21:08:41,156 - gsm_pipeline - INFO - 🤖 Training and evaluating models...\u001b[0m\n",
      "\u001b[32m✨ 2025-01-21 21:08:41,157 - gsm_pipeline - INFO - Training model with top 10 groups...\u001b[0m\n",
      "\u001b[32m✨ 2025-01-21 21:08:41,261 - gsm_pipeline - INFO - Modeling with top 10 groups completed\u001b[0m\n",
      "\u001b[32m✨ 2025-01-21 21:08:41,262 - gsm_pipeline - INFO - Training model with top 9 groups...\u001b[0m\n"
     ]
    },
    {
     "name": "stderr",
     "output_type": "stream",
     "text": [
      "\n"
     ]
    },
    {
     "name": "stdout",
     "output_type": "stream",
     "text": [
      "\u001b[32m✨ 2025-01-21 21:08:41,366 - gsm_pipeline - INFO - Modeling with top 9 groups completed\u001b[0m\n",
      "\u001b[32m✨ 2025-01-21 21:08:41,367 - gsm_pipeline - INFO - Training model with top 8 groups...\u001b[0m\n",
      "\u001b[32m✨ 2025-01-21 21:08:41,471 - gsm_pipeline - INFO - Modeling with top 8 groups completed\u001b[0m\n",
      "\u001b[32m✨ 2025-01-21 21:08:41,472 - gsm_pipeline - INFO - Training model with top 7 groups...\u001b[0m\n",
      "\u001b[32m✨ 2025-01-21 21:08:41,573 - gsm_pipeline - INFO - Modeling with top 7 groups completed\u001b[0m\n",
      "\u001b[32m✨ 2025-01-21 21:08:41,574 - gsm_pipeline - INFO - Training model with top 6 groups...\u001b[0m\n",
      "\u001b[32m✨ 2025-01-21 21:08:41,680 - gsm_pipeline - INFO - Modeling with top 6 groups completed\u001b[0m\n",
      "\u001b[32m✨ 2025-01-21 21:08:41,681 - gsm_pipeline - INFO - Training model with top 5 groups...\u001b[0m\n",
      "\u001b[32m✨ 2025-01-21 21:08:41,785 - gsm_pipeline - INFO - Modeling with top 5 groups completed\u001b[0m\n",
      "\u001b[32m✨ 2025-01-21 21:08:41,786 - gsm_pipeline - INFO - Training model with top 4 groups...\u001b[0m\n",
      "\u001b[32m✨ 2025-01-21 21:08:41,887 - gsm_pipeline - INFO - Modeling with top 4 groups completed\u001b[0m\n",
      "\u001b[32m✨ 2025-01-21 21:08:41,888 - gsm_pipeline - INFO - Training model with top 3 groups...\u001b[0m\n",
      "\u001b[32m✨ 2025-01-21 21:08:41,993 - gsm_pipeline - INFO - Modeling with top 3 groups completed\u001b[0m\n",
      "\u001b[32m✨ 2025-01-21 21:08:41,994 - gsm_pipeline - INFO - Training model with top 2 groups...\u001b[0m\n",
      "\u001b[32m✨ 2025-01-21 21:08:42,100 - gsm_pipeline - INFO - Modeling with top 2 groups completed\u001b[0m\n",
      "\u001b[32m✨ 2025-01-21 21:08:42,101 - gsm_pipeline - INFO - Training model with top 1 groups...\u001b[0m\n",
      "\u001b[32m✨ 2025-01-21 21:08:42,205 - gsm_pipeline - INFO - Modeling with top 1 groups completed\u001b[0m\n",
      "\u001b[32m✨ 2025-01-21 21:08:42,206 - gsm_pipeline - INFO - Modeling completed successfully.\u001b[0m\n",
      "\u001b[32m✨ 2025-01-21 21:08:42,207 - gsm_pipeline - INFO - Iteration 0 for gsm_main_loop completed.\u001b[0m\n",
      "\u001b[32m✨ 2025-01-21 21:08:42,208 - gsm_pipeline - INFO - Saving intermediate results...\u001b[0m\n",
      "\u001b[32m✨ 2025-01-21 21:08:42,209 - gsm_pipeline - INFO - 📁 Created results directory: /home/yasin/GSM-to-python/output/2025-01-21_21-08-42\u001b[0m\n",
      "\u001b[31m❌ 2025-01-21 21:08:42,210 - gsm_pipeline - ERROR - ❌ Failed to save metadata: Object of type SourceFileLoader is not JSON serializable\u001b[0m\n",
      "\u001b[31m❌ 2025-01-21 21:08:42,211 - gsm_pipeline - ERROR - ❌ Failed to save modeling results: Object of type SourceFileLoader is not JSON serializable\u001b[0m\n"
     ]
    },
    {
     "ename": "TypeError",
     "evalue": "Object of type SourceFileLoader is not JSON serializable",
     "output_type": "error",
     "traceback": [
      "\u001b[0;31m---------------------------------------------------------------------------\u001b[0m",
      "\u001b[0;31mTypeError\u001b[0m                                 Traceback (most recent call last)",
      "Cell \u001b[0;32mIn[10], line 21\u001b[0m\n\u001b[1;32m     18\u001b[0m input_data \u001b[38;5;241m=\u001b[39m data_loader\u001b[38;5;241m.\u001b[39mload_input_file(input_file)\n\u001b[1;32m     19\u001b[0m group_data \u001b[38;5;241m=\u001b[39m data_loader\u001b[38;5;241m.\u001b[39mload_group_file(group_file)\n\u001b[0;32m---> 21\u001b[0m \u001b[43mGSM_pipeline\u001b[49m\u001b[38;5;241;43m.\u001b[39;49m\u001b[43mgsm_run\u001b[49m\u001b[43m(\u001b[49m\u001b[43minput_data\u001b[49m\u001b[43m,\u001b[49m\u001b[43m \u001b[49m\u001b[43mgroup_data\u001b[49m\u001b[43m,\u001b[49m\u001b[43m \u001b[49m\u001b[43mlogger\u001b[49m\u001b[38;5;241;43m=\u001b[39;49m\u001b[43mlogger\u001b[49m\u001b[43m)\u001b[49m\n",
      "File \u001b[0;32m~/GSM-to-python/src/GSM_pipeline.py:141\u001b[0m, in \u001b[0;36mgsm_run\u001b[0;34m(input_data, group_data, logger, config, notebook_mode)\u001b[0m\n\u001b[1;32m    137\u001b[0m     logger\u001b[38;5;241m.\u001b[39minfo(\u001b[38;5;124m\"\u001b[39m\u001b[38;5;124mSaving intermediate results...\u001b[39m\u001b[38;5;124m\"\u001b[39m)\n\u001b[1;32m    138\u001b[0m     result_saver \u001b[38;5;241m=\u001b[39m save_results\u001b[38;5;241m.\u001b[39mResultSaver(base_dir\u001b[38;5;241m=\u001b[39m\u001b[38;5;28mstr\u001b[39m(OUTPUT_DIR), \n\u001b[1;32m    139\u001b[0m                                             create_timestamp_subdir\u001b[38;5;241m=\u001b[39m\u001b[38;5;28;01mTrue\u001b[39;00m,\n\u001b[1;32m    140\u001b[0m                                             logger\u001b[38;5;241m=\u001b[39mlogger)\n\u001b[0;32m--> 141\u001b[0m     \u001b[43mresult_saver\u001b[49m\u001b[38;5;241;43m.\u001b[39;49m\u001b[43msave_modeling_results\u001b[49m\u001b[43m(\u001b[49m\u001b[43mmodeling_result_list\u001b[49m\u001b[43m,\u001b[49m\u001b[43m \u001b[49m\u001b[38;5;124;43m\"\u001b[39;49m\u001b[38;5;124;43mmodeling_results\u001b[39;49m\u001b[38;5;124;43m\"\u001b[39;49m\u001b[43m)\u001b[49m\n\u001b[1;32m    142\u001b[0m     logger\u001b[38;5;241m.\u001b[39minfo(\u001b[38;5;124m\"\u001b[39m\u001b[38;5;124mIntermediate results saved.\u001b[39m\u001b[38;5;124m\"\u001b[39m)\n\u001b[1;32m    143\u001b[0m logger\u001b[38;5;241m.\u001b[39minfo(\u001b[38;5;124m\"\u001b[39m\u001b[38;5;124mGSM pipeline completed successfully.\u001b[39m\u001b[38;5;124m\"\u001b[39m)\n",
      "File \u001b[0;32m~/GSM-to-python/src/utils/save_results.py:246\u001b[0m, in \u001b[0;36mResultSaver.save_modeling_results\u001b[0;34m(self, results, experiment_name)\u001b[0m\n\u001b[1;32m    243\u001b[0m     \u001b[38;5;66;03m# append all config.py file to the combined_group_results\u001b[39;00m\n\u001b[1;32m    244\u001b[0m     combined_group_results[\u001b[38;5;124m'\u001b[39m\u001b[38;5;124mconfig\u001b[39m\u001b[38;5;124m'\u001b[39m] \u001b[38;5;241m=\u001b[39m config\u001b[38;5;241m.\u001b[39m\u001b[38;5;18m__dict__\u001b[39m\n\u001b[0;32m--> 246\u001b[0m     combined_path \u001b[38;5;241m=\u001b[39m \u001b[38;5;28;43mself\u001b[39;49m\u001b[38;5;241;43m.\u001b[39;49m\u001b[43msave_metadata\u001b[49m\u001b[43m(\u001b[49m\n\u001b[1;32m    247\u001b[0m \u001b[43m        \u001b[49m\u001b[43mcombined_group_results\u001b[49m\u001b[43m,\u001b[49m\n\u001b[1;32m    248\u001b[0m \u001b[43m        \u001b[49m\u001b[38;5;124;43mf\u001b[39;49m\u001b[38;5;124;43m\"\u001b[39;49m\u001b[38;5;132;43;01m{\u001b[39;49;00m\u001b[43mexperiment_name\u001b[49m\u001b[38;5;132;43;01m}\u001b[39;49;00m\u001b[38;5;124;43m_\u001b[39;49m\u001b[38;5;132;43;01m{\u001b[39;49;00m\u001b[43mouter_idx\u001b[49m\u001b[38;5;241;43m+\u001b[39;49m\u001b[38;5;241;43m1\u001b[39;49m\u001b[38;5;132;43;01m}\u001b[39;49;00m\u001b[38;5;124;43m_combined_results\u001b[39;49m\u001b[38;5;124;43m\"\u001b[39;49m\n\u001b[1;32m    249\u001b[0m \u001b[43m    \u001b[49m\u001b[43m)\u001b[49m\n\u001b[1;32m    251\u001b[0m     saved_paths_list\u001b[38;5;241m.\u001b[39mappend(group_paths)\n\u001b[1;32m    253\u001b[0m \u001b[38;5;28;01mreturn\u001b[39;00m saved_paths_list\n",
      "File \u001b[0;32m~/GSM-to-python/src/utils/save_results.py:183\u001b[0m, in \u001b[0;36mResultSaver.save_metadata\u001b[0;34m(self, metadata, name)\u001b[0m\n\u001b[1;32m    181\u001b[0m filepath \u001b[38;5;241m=\u001b[39m \u001b[38;5;28mself\u001b[39m\u001b[38;5;241m.\u001b[39msave_dir \u001b[38;5;241m/\u001b[39m \u001b[38;5;28mself\u001b[39m\u001b[38;5;241m.\u001b[39m_get_filename(name, \u001b[38;5;124m\"\u001b[39m\u001b[38;5;124mjson\u001b[39m\u001b[38;5;124m\"\u001b[39m)\n\u001b[1;32m    182\u001b[0m \u001b[38;5;28;01mwith\u001b[39;00m \u001b[38;5;28mopen\u001b[39m(filepath, \u001b[38;5;124m'\u001b[39m\u001b[38;5;124mw\u001b[39m\u001b[38;5;124m'\u001b[39m) \u001b[38;5;28;01mas\u001b[39;00m f:\n\u001b[0;32m--> 183\u001b[0m     \u001b[43mjson\u001b[49m\u001b[38;5;241;43m.\u001b[39;49m\u001b[43mdump\u001b[49m\u001b[43m(\u001b[49m\u001b[43mmetadata\u001b[49m\u001b[43m,\u001b[49m\u001b[43m \u001b[49m\u001b[43mf\u001b[49m\u001b[43m,\u001b[49m\u001b[43m \u001b[49m\u001b[43mindent\u001b[49m\u001b[38;5;241;43m=\u001b[39;49m\u001b[38;5;241;43m2\u001b[39;49m\u001b[43m)\u001b[49m\n\u001b[1;32m    184\u001b[0m \u001b[38;5;28mself\u001b[39m\u001b[38;5;241m.\u001b[39mlogger\u001b[38;5;241m.\u001b[39minfo(\u001b[38;5;124mf\u001b[39m\u001b[38;5;124m\"\u001b[39m\u001b[38;5;124m📝 Saved metadata to \u001b[39m\u001b[38;5;132;01m{\u001b[39;00mfilepath\u001b[38;5;132;01m}\u001b[39;00m\u001b[38;5;124m\"\u001b[39m)\n\u001b[1;32m    185\u001b[0m \u001b[38;5;28;01mreturn\u001b[39;00m filepath\n",
      "File \u001b[0;32m~/miniconda/envs/conda_env/lib/python3.9/json/__init__.py:179\u001b[0m, in \u001b[0;36mdump\u001b[0;34m(obj, fp, skipkeys, ensure_ascii, check_circular, allow_nan, cls, indent, separators, default, sort_keys, **kw)\u001b[0m\n\u001b[1;32m    173\u001b[0m     iterable \u001b[38;5;241m=\u001b[39m \u001b[38;5;28mcls\u001b[39m(skipkeys\u001b[38;5;241m=\u001b[39mskipkeys, ensure_ascii\u001b[38;5;241m=\u001b[39mensure_ascii,\n\u001b[1;32m    174\u001b[0m         check_circular\u001b[38;5;241m=\u001b[39mcheck_circular, allow_nan\u001b[38;5;241m=\u001b[39mallow_nan, indent\u001b[38;5;241m=\u001b[39mindent,\n\u001b[1;32m    175\u001b[0m         separators\u001b[38;5;241m=\u001b[39mseparators,\n\u001b[1;32m    176\u001b[0m         default\u001b[38;5;241m=\u001b[39mdefault, sort_keys\u001b[38;5;241m=\u001b[39msort_keys, \u001b[38;5;241m*\u001b[39m\u001b[38;5;241m*\u001b[39mkw)\u001b[38;5;241m.\u001b[39miterencode(obj)\n\u001b[1;32m    177\u001b[0m \u001b[38;5;66;03m# could accelerate with writelines in some versions of Python, at\u001b[39;00m\n\u001b[1;32m    178\u001b[0m \u001b[38;5;66;03m# a debuggability cost\u001b[39;00m\n\u001b[0;32m--> 179\u001b[0m \u001b[38;5;28;01mfor\u001b[39;00m chunk \u001b[38;5;129;01min\u001b[39;00m iterable:\n\u001b[1;32m    180\u001b[0m     fp\u001b[38;5;241m.\u001b[39mwrite(chunk)\n",
      "File \u001b[0;32m~/miniconda/envs/conda_env/lib/python3.9/json/encoder.py:431\u001b[0m, in \u001b[0;36m_make_iterencode.<locals>._iterencode\u001b[0;34m(o, _current_indent_level)\u001b[0m\n\u001b[1;32m    429\u001b[0m     \u001b[38;5;28;01myield from\u001b[39;00m _iterencode_list(o, _current_indent_level)\n\u001b[1;32m    430\u001b[0m \u001b[38;5;28;01melif\u001b[39;00m \u001b[38;5;28misinstance\u001b[39m(o, \u001b[38;5;28mdict\u001b[39m):\n\u001b[0;32m--> 431\u001b[0m     \u001b[38;5;28;01myield from\u001b[39;00m _iterencode_dict(o, _current_indent_level)\n\u001b[1;32m    432\u001b[0m \u001b[38;5;28;01melse\u001b[39;00m:\n\u001b[1;32m    433\u001b[0m     \u001b[38;5;28;01mif\u001b[39;00m markers \u001b[38;5;129;01mis\u001b[39;00m \u001b[38;5;129;01mnot\u001b[39;00m \u001b[38;5;28;01mNone\u001b[39;00m:\n",
      "File \u001b[0;32m~/miniconda/envs/conda_env/lib/python3.9/json/encoder.py:405\u001b[0m, in \u001b[0;36m_make_iterencode.<locals>._iterencode_dict\u001b[0;34m(dct, _current_indent_level)\u001b[0m\n\u001b[1;32m    403\u001b[0m         \u001b[38;5;28;01melse\u001b[39;00m:\n\u001b[1;32m    404\u001b[0m             chunks \u001b[38;5;241m=\u001b[39m _iterencode(value, _current_indent_level)\n\u001b[0;32m--> 405\u001b[0m         \u001b[38;5;28;01myield from\u001b[39;00m chunks\n\u001b[1;32m    406\u001b[0m \u001b[38;5;28;01mif\u001b[39;00m newline_indent \u001b[38;5;129;01mis\u001b[39;00m \u001b[38;5;129;01mnot\u001b[39;00m \u001b[38;5;28;01mNone\u001b[39;00m:\n\u001b[1;32m    407\u001b[0m     _current_indent_level \u001b[38;5;241m-\u001b[39m\u001b[38;5;241m=\u001b[39m \u001b[38;5;241m1\u001b[39m\n",
      "File \u001b[0;32m~/miniconda/envs/conda_env/lib/python3.9/json/encoder.py:405\u001b[0m, in \u001b[0;36m_make_iterencode.<locals>._iterencode_dict\u001b[0;34m(dct, _current_indent_level)\u001b[0m\n\u001b[1;32m    403\u001b[0m         \u001b[38;5;28;01melse\u001b[39;00m:\n\u001b[1;32m    404\u001b[0m             chunks \u001b[38;5;241m=\u001b[39m _iterencode(value, _current_indent_level)\n\u001b[0;32m--> 405\u001b[0m         \u001b[38;5;28;01myield from\u001b[39;00m chunks\n\u001b[1;32m    406\u001b[0m \u001b[38;5;28;01mif\u001b[39;00m newline_indent \u001b[38;5;129;01mis\u001b[39;00m \u001b[38;5;129;01mnot\u001b[39;00m \u001b[38;5;28;01mNone\u001b[39;00m:\n\u001b[1;32m    407\u001b[0m     _current_indent_level \u001b[38;5;241m-\u001b[39m\u001b[38;5;241m=\u001b[39m \u001b[38;5;241m1\u001b[39m\n",
      "File \u001b[0;32m~/miniconda/envs/conda_env/lib/python3.9/json/encoder.py:438\u001b[0m, in \u001b[0;36m_make_iterencode.<locals>._iterencode\u001b[0;34m(o, _current_indent_level)\u001b[0m\n\u001b[1;32m    436\u001b[0m         \u001b[38;5;28;01mraise\u001b[39;00m \u001b[38;5;167;01mValueError\u001b[39;00m(\u001b[38;5;124m\"\u001b[39m\u001b[38;5;124mCircular reference detected\u001b[39m\u001b[38;5;124m\"\u001b[39m)\n\u001b[1;32m    437\u001b[0m     markers[markerid] \u001b[38;5;241m=\u001b[39m o\n\u001b[0;32m--> 438\u001b[0m o \u001b[38;5;241m=\u001b[39m \u001b[43m_default\u001b[49m\u001b[43m(\u001b[49m\u001b[43mo\u001b[49m\u001b[43m)\u001b[49m\n\u001b[1;32m    439\u001b[0m \u001b[38;5;28;01myield from\u001b[39;00m _iterencode(o, _current_indent_level)\n\u001b[1;32m    440\u001b[0m \u001b[38;5;28;01mif\u001b[39;00m markers \u001b[38;5;129;01mis\u001b[39;00m \u001b[38;5;129;01mnot\u001b[39;00m \u001b[38;5;28;01mNone\u001b[39;00m:\n",
      "File \u001b[0;32m~/miniconda/envs/conda_env/lib/python3.9/json/encoder.py:179\u001b[0m, in \u001b[0;36mJSONEncoder.default\u001b[0;34m(self, o)\u001b[0m\n\u001b[1;32m    160\u001b[0m \u001b[38;5;28;01mdef\u001b[39;00m\u001b[38;5;250m \u001b[39m\u001b[38;5;21mdefault\u001b[39m(\u001b[38;5;28mself\u001b[39m, o):\n\u001b[1;32m    161\u001b[0m \u001b[38;5;250m    \u001b[39m\u001b[38;5;124;03m\"\"\"Implement this method in a subclass such that it returns\u001b[39;00m\n\u001b[1;32m    162\u001b[0m \u001b[38;5;124;03m    a serializable object for ``o``, or calls the base implementation\u001b[39;00m\n\u001b[1;32m    163\u001b[0m \u001b[38;5;124;03m    (to raise a ``TypeError``).\u001b[39;00m\n\u001b[0;32m   (...)\u001b[0m\n\u001b[1;32m    177\u001b[0m \n\u001b[1;32m    178\u001b[0m \u001b[38;5;124;03m    \"\"\"\u001b[39;00m\n\u001b[0;32m--> 179\u001b[0m     \u001b[38;5;28;01mraise\u001b[39;00m \u001b[38;5;167;01mTypeError\u001b[39;00m(\u001b[38;5;124mf\u001b[39m\u001b[38;5;124m'\u001b[39m\u001b[38;5;124mObject of type \u001b[39m\u001b[38;5;132;01m{\u001b[39;00mo\u001b[38;5;241m.\u001b[39m\u001b[38;5;18m__class__\u001b[39m\u001b[38;5;241m.\u001b[39m\u001b[38;5;18m__name__\u001b[39m\u001b[38;5;132;01m}\u001b[39;00m\u001b[38;5;124m \u001b[39m\u001b[38;5;124m'\u001b[39m\n\u001b[1;32m    180\u001b[0m                     \u001b[38;5;124mf\u001b[39m\u001b[38;5;124m'\u001b[39m\u001b[38;5;124mis not JSON serializable\u001b[39m\u001b[38;5;124m'\u001b[39m)\n",
      "\u001b[0;31mTypeError\u001b[0m: Object of type SourceFileLoader is not JSON serializable"
     ]
    }
   ],
   "source": [
    "%load_ext autoreload\n",
    "%autoreload 2\n",
    "%reload_ext autoreload\n",
    "\n",
    "from config import INPUT_EXPRESSION_DATA, INPUT_GROUP_DATA\n",
    "from data_processing import data_loader\n",
    "import GSM_pipeline\n",
    "import pathlib\n",
    "from utils import logger\n",
    "\n",
    "project_folder = pathlib.Path().resolve().parent\n",
    "print(f\"Project Folder: {project_folder}\")\n",
    "\n",
    "# Now you can import the GSM_pipeline module\n",
    "input_file = project_folder / INPUT_EXPRESSION_DATA\n",
    "group_file = project_folder / INPUT_GROUP_DATA\n",
    "\n",
    "input_data = data_loader.load_input_file(input_file)\n",
    "group_data = data_loader.load_group_file(group_file)\n",
    "\n",
    "GSM_pipeline.gsm_run(input_data, group_data, logger=logger)"
   ]
  }
 ],
 "metadata": {
  "kernelspec": {
   "display_name": "conda_env",
   "language": "python",
   "name": "python3"
  },
  "language_info": {
   "codemirror_mode": {
    "name": "ipython",
    "version": 3
   },
   "file_extension": ".py",
   "mimetype": "text/x-python",
   "name": "python",
   "nbconvert_exporter": "python",
   "pygments_lexer": "ipython3",
   "version": "3.9.18"
  }
 },
 "nbformat": 4,
 "nbformat_minor": 2
}
