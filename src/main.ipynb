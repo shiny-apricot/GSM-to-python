{
 "cells": [
  {
   "cell_type": "code",
   "execution_count": 3,
   "metadata": {},
   "outputs": [
    {
     "name": "stdout",
     "output_type": "stream",
     "text": [
      "The autoreload extension is already loaded. To reload it, use:\n",
      "  %reload_ext autoreload\n",
      "Project Folder: /home/yasin/GSM-to-python\n",
      "/home/yasin/GSM-to-python/data/test/test_main_data.csv\n",
      "\u001b[32m✨ 2025-01-21 18:55:53,738 - gsm_pipeline - INFO - 🚀 Starting GSM pipeline...\u001b[0m\n",
      "\u001b[32m✨ 2025-01-21 18:55:53,738 - gsm_pipeline - INFO - Start data preprocessing.\u001b[0m\n",
      "\u001b[32m✨ 2025-01-21 18:55:53,740 - gsm_pipeline - INFO - Starting data normalization using zscore method\u001b[0m\n",
      "\u001b[32m✨ 2025-01-21 18:55:53,755 - gsm_pipeline - INFO - Data normalization completed successfully\u001b[0m\n",
      "\u001b[32m✨ 2025-01-21 18:55:53,760 - gsm_pipeline - INFO - Data preprocessing completed.\u001b[0m\n",
      "\u001b[32m✨ 2025-01-21 18:55:53,761 - gsm_pipeline - INFO - Grouping data preprocessing completed.\u001b[0m\n",
      "\u001b[32m✨ 2025-01-21 18:55:53,761 - gsm_pipeline - INFO - Iteration 0 for gsm_main_loop started...\u001b[0m\n",
      "\u001b[32m✨ 2025-01-21 18:55:53,762 - gsm_pipeline - INFO - ##### Starting GSM Main Loop #####\u001b[0m\n",
      "\u001b[32m✨ 2025-01-21 18:55:53,764 - gsm_pipeline - INFO - 📊 Splitting data into training and testing sets...\u001b[0m\n",
      "\u001b[32m✨ 2025-01-21 18:55:53,776 - gsm_pipeline - INFO - Data split completed.\u001b[0m\n",
      "\u001b[32m✨ 2025-01-21 18:55:53,777 - gsm_pipeline - INFO - 🔍 Applying preliminary t-test filter...\u001b[0m\n",
      "\u001b[32m✨ 2025-01-21 18:55:53,778 - gsm_pipeline - INFO - Starting preliminary filtering...\u001b[0m\n",
      "\u001b[32m✨ 2025-01-21 18:55:53,780 - gsm_pipeline - INFO - ##### Running t-test on 135 genes #####\u001b[0m\n",
      "\u001b[32m✨ 2025-01-21 18:55:53,783 - gsm_pipeline - INFO - Applying fdr_bh correction\u001b[0m\n",
      "\u001b[32m✨ 2025-01-21 18:55:53,784 - gsm_pipeline - INFO - ✅ Selected 59 significant genes\u001b[0m\n",
      "\u001b[32m✨ 2025-01-21 18:55:53,785 - gsm_pipeline - INFO - Preliminary filtering completed. Selected 59 features.\u001b[0m\n",
      "\u001b[32m✨ 2025-01-21 18:55:53,786 - gsm_pipeline - INFO - Preliminary filtering completed.\u001b[0m\n",
      "\u001b[32m✨ 2025-01-21 18:55:53,786 - gsm_pipeline - INFO - 🔗 Running gene grouping analysis...\u001b[0m\n",
      "\u001b[32m✨ 2025-01-21 18:55:53,788 - gsm_pipeline - INFO - ##### Starting grouping process #####\u001b[0m\n",
      "\u001b[32m✨ 2025-01-21 18:55:53,789 - gsm_pipeline - INFO - ✅ Grouping data validation successful\u001b[0m\n",
      "\u001b[32m✨ 2025-01-21 18:55:53,790 - gsm_pipeline - INFO - Creating feature-group mappings...\u001b[0m\n",
      "\u001b[32m✨ 2025-01-21 18:55:53,790 - gsm_pipeline - INFO - ✅ Successfully created 26 feature groups\u001b[0m\n",
      "\u001b[32m✨ 2025-01-21 18:55:53,791 - gsm_pipeline - INFO - Grouping completed.\u001b[0m\n",
      "\u001b[32m✨ 2025-01-21 18:55:53,792 - gsm_pipeline - INFO - 📈 Evaluating group performance...\u001b[0m\n",
      "\u001b[32m✨ 2025-01-21 18:55:53,792 - gsm_pipeline - INFO - 🔄 Starting group scoring process...\u001b[0m\n"
     ]
    },
    {
     "name": "stderr",
     "output_type": "stream",
     "text": [
      "📊 Scoring groups: 100%|█████████████████████| 26/26 [00:13<00:00,  2.00group/s]"
     ]
    },
    {
     "name": "stdout",
     "output_type": "stream",
     "text": [
      "\u001b[32m✨ 2025-01-21 18:56:06,800 - gsm_pipeline - INFO - 🏆 Ranking metrics by f1...\u001b[0m\n",
      "\u001b[36m🔍 2025-01-21 18:56:06,801 - gsm_pipeline - DEBUG - ✅ Ranking complete. Top score: 0.609\u001b[0m\n",
      "\u001b[32m✨ 2025-01-21 18:56:06,802 - gsm_pipeline - INFO - Scoring completed.\u001b[0m\n",
      "\u001b[32m✨ 2025-01-21 18:56:06,803 - gsm_pipeline - INFO - 🤖 Training and evaluating models...\u001b[0m\n",
      "\u001b[32m✨ 2025-01-21 18:56:06,803 - gsm_pipeline - INFO - Training model with top 1 groups...\u001b[0m\n",
      "\u001b[32m✨ 2025-01-21 18:56:06,911 - gsm_pipeline - INFO - ✅ Successfully calculated metrics\u001b[0m\n",
      "\u001b[32m✨ 2025-01-21 18:56:06,913 - gsm_pipeline - INFO - Modeling with top 1 groups completed\u001b[0m\n",
      "\u001b[32m✨ 2025-01-21 18:56:06,913 - gsm_pipeline - INFO - Training model with top 2 groups...\u001b[0m\n"
     ]
    },
    {
     "name": "stderr",
     "output_type": "stream",
     "text": [
      "\n"
     ]
    },
    {
     "name": "stdout",
     "output_type": "stream",
     "text": [
      "\u001b[32m✨ 2025-01-21 18:56:07,020 - gsm_pipeline - INFO - ✅ Successfully calculated metrics\u001b[0m\n",
      "\u001b[32m✨ 2025-01-21 18:56:07,022 - gsm_pipeline - INFO - Modeling with top 2 groups completed\u001b[0m\n",
      "\u001b[32m✨ 2025-01-21 18:56:07,022 - gsm_pipeline - INFO - Training model with top 3 groups...\u001b[0m\n",
      "\u001b[32m✨ 2025-01-21 18:56:07,129 - gsm_pipeline - INFO - ✅ Successfully calculated metrics\u001b[0m\n",
      "\u001b[32m✨ 2025-01-21 18:56:07,131 - gsm_pipeline - INFO - Modeling with top 3 groups completed\u001b[0m\n",
      "\u001b[32m✨ 2025-01-21 18:56:07,132 - gsm_pipeline - INFO - Training model with top 4 groups...\u001b[0m\n",
      "\u001b[32m✨ 2025-01-21 18:56:07,236 - gsm_pipeline - INFO - ✅ Successfully calculated metrics\u001b[0m\n",
      "\u001b[32m✨ 2025-01-21 18:56:07,237 - gsm_pipeline - INFO - Modeling with top 4 groups completed\u001b[0m\n",
      "\u001b[32m✨ 2025-01-21 18:56:07,238 - gsm_pipeline - INFO - Training model with top 5 groups...\u001b[0m\n",
      "\u001b[32m✨ 2025-01-21 18:56:07,343 - gsm_pipeline - INFO - ✅ Successfully calculated metrics\u001b[0m\n",
      "\u001b[32m✨ 2025-01-21 18:56:07,345 - gsm_pipeline - INFO - Modeling with top 5 groups completed\u001b[0m\n",
      "\u001b[32m✨ 2025-01-21 18:56:07,346 - gsm_pipeline - INFO - Training model with top 6 groups...\u001b[0m\n",
      "\u001b[32m✨ 2025-01-21 18:56:07,451 - gsm_pipeline - INFO - ✅ Successfully calculated metrics\u001b[0m\n",
      "\u001b[32m✨ 2025-01-21 18:56:07,452 - gsm_pipeline - INFO - Modeling with top 6 groups completed\u001b[0m\n",
      "\u001b[32m✨ 2025-01-21 18:56:07,453 - gsm_pipeline - INFO - Training model with top 7 groups...\u001b[0m\n",
      "\u001b[32m✨ 2025-01-21 18:56:07,560 - gsm_pipeline - INFO - ✅ Successfully calculated metrics\u001b[0m\n",
      "\u001b[32m✨ 2025-01-21 18:56:07,561 - gsm_pipeline - INFO - Modeling with top 7 groups completed\u001b[0m\n",
      "\u001b[32m✨ 2025-01-21 18:56:07,562 - gsm_pipeline - INFO - Training model with top 8 groups...\u001b[0m\n",
      "\u001b[32m✨ 2025-01-21 18:56:07,667 - gsm_pipeline - INFO - ✅ Successfully calculated metrics\u001b[0m\n",
      "\u001b[32m✨ 2025-01-21 18:56:07,668 - gsm_pipeline - INFO - Modeling with top 8 groups completed\u001b[0m\n",
      "\u001b[32m✨ 2025-01-21 18:56:07,669 - gsm_pipeline - INFO - Training model with top 9 groups...\u001b[0m\n",
      "\u001b[32m✨ 2025-01-21 18:56:07,788 - gsm_pipeline - INFO - ✅ Successfully calculated metrics\u001b[0m\n",
      "\u001b[32m✨ 2025-01-21 18:56:07,789 - gsm_pipeline - INFO - Modeling with top 9 groups completed\u001b[0m\n",
      "\u001b[32m✨ 2025-01-21 18:56:07,790 - gsm_pipeline - INFO - Training model with top 10 groups...\u001b[0m\n",
      "\u001b[32m✨ 2025-01-21 18:56:07,901 - gsm_pipeline - INFO - ✅ Successfully calculated metrics\u001b[0m\n",
      "\u001b[32m✨ 2025-01-21 18:56:07,902 - gsm_pipeline - INFO - Modeling with top 10 groups completed\u001b[0m\n",
      "\u001b[32m✨ 2025-01-21 18:56:07,903 - gsm_pipeline - INFO - Modeling completed successfully.\u001b[0m\n",
      "\u001b[32m✨ 2025-01-21 18:56:07,905 - gsm_pipeline - INFO - Iteration 0 for gsm_main_loop completed.\u001b[0m\n",
      "\u001b[32m✨ 2025-01-21 18:56:07,905 - gsm_pipeline - INFO - Saving intermediate results...\u001b[0m\n",
      "\u001b[32m✨ 2025-01-21 18:56:07,907 - gsm_pipeline - INFO - 📁 Created results directory: /home/yasin/GSM-to-python/output/2025-01-21_18-56-07\u001b[0m\n",
      "\u001b[32m✨ 2025-01-21 18:56:07,914 - gsm_pipeline - INFO - 📝 Saved metadata to /home/yasin/GSM-to-python/output/2025-01-21_18-56-07/modeling_results_1_1_metrics.json\u001b[0m\n",
      "\u001b[32m✨ 2025-01-21 18:56:07,915 - gsm_pipeline - INFO - 📝 Saved metadata to /home/yasin/GSM-to-python/output/2025-01-21_18-56-07/modeling_results_1_2_metrics.json\u001b[0m\n",
      "\u001b[32m✨ 2025-01-21 18:56:07,917 - gsm_pipeline - INFO - 📝 Saved metadata to /home/yasin/GSM-to-python/output/2025-01-21_18-56-07/modeling_results_1_3_metrics.json\u001b[0m\n",
      "\u001b[32m✨ 2025-01-21 18:56:07,919 - gsm_pipeline - INFO - 📝 Saved metadata to /home/yasin/GSM-to-python/output/2025-01-21_18-56-07/modeling_results_1_4_metrics.json\u001b[0m\n",
      "\u001b[32m✨ 2025-01-21 18:56:07,920 - gsm_pipeline - INFO - 📝 Saved metadata to /home/yasin/GSM-to-python/output/2025-01-21_18-56-07/modeling_results_1_5_metrics.json\u001b[0m\n",
      "\u001b[32m✨ 2025-01-21 18:56:07,922 - gsm_pipeline - INFO - 📝 Saved metadata to /home/yasin/GSM-to-python/output/2025-01-21_18-56-07/modeling_results_1_6_metrics.json\u001b[0m\n",
      "\u001b[32m✨ 2025-01-21 18:56:07,923 - gsm_pipeline - INFO - 📝 Saved metadata to /home/yasin/GSM-to-python/output/2025-01-21_18-56-07/modeling_results_1_7_metrics.json\u001b[0m\n",
      "\u001b[32m✨ 2025-01-21 18:56:07,924 - gsm_pipeline - INFO - 📝 Saved metadata to /home/yasin/GSM-to-python/output/2025-01-21_18-56-07/modeling_results_1_8_metrics.json\u001b[0m\n",
      "\u001b[32m✨ 2025-01-21 18:56:07,925 - gsm_pipeline - INFO - 📝 Saved metadata to /home/yasin/GSM-to-python/output/2025-01-21_18-56-07/modeling_results_1_9_metrics.json\u001b[0m\n",
      "\u001b[32m✨ 2025-01-21 18:56:07,927 - gsm_pipeline - INFO - 📝 Saved metadata to /home/yasin/GSM-to-python/output/2025-01-21_18-56-07/modeling_results_1_10_metrics.json\u001b[0m\n",
      "\u001b[32m✨ 2025-01-21 18:56:07,927 - gsm_pipeline - INFO - Intermediate results saved.\u001b[0m\n",
      "\u001b[32m✨ 2025-01-21 18:56:07,928 - gsm_pipeline - INFO - GSM pipeline completed successfully.\u001b[0m\n"
     ]
    }
   ],
   "source": [
    "%load_ext autoreload\n",
    "%autoreload 2\n",
    "%reload_ext autoreload\n",
    "\n",
    "from config import INPUT_EXPRESSION_DATA, INPUT_GROUP_DATA\n",
    "from data_processing import data_loader\n",
    "import GSM_pipeline\n",
    "import pathlib\n",
    "from utils import logger\n",
    "\n",
    "project_folder = pathlib.Path().resolve().parent\n",
    "print(f\"Project Folder: {project_folder}\")\n",
    "\n",
    "# Now you can import the GSM_pipeline module\n",
    "input_file = project_folder / INPUT_EXPRESSION_DATA\n",
    "group_file = project_folder / INPUT_GROUP_DATA\n",
    "\n",
    "input_data = data_loader.load_input_file(input_file)\n",
    "group_data = data_loader.load_group_file(group_file)\n",
    "\n",
    "GSM_pipeline.gsm_run(input_data, group_data, logger=logger)"
   ]
  }
 ],
 "metadata": {
  "kernelspec": {
   "display_name": "conda_env",
   "language": "python",
   "name": "python3"
  },
  "language_info": {
   "codemirror_mode": {
    "name": "ipython",
    "version": 3
   },
   "file_extension": ".py",
   "mimetype": "text/x-python",
   "name": "python",
   "nbconvert_exporter": "python",
   "pygments_lexer": "ipython3",
   "version": "3.9.18"
  }
 },
 "nbformat": 4,
 "nbformat_minor": 2
}
