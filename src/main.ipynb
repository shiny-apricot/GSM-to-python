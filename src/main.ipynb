{
 "cells": [
  {
   "cell_type": "code",
   "execution_count": 1,
   "metadata": {},
   "outputs": [
    {
     "name": "stdout",
     "output_type": "stream",
     "text": [
      "Project Folder: /home/yasin/GSM-to-python\n",
      "/home/yasin/GSM-to-python/data/test/test_main_data.csv\n",
      "\u001b[32m✨ 2025-01-20 21:47:55,125 - gsm_pipeline - INFO - 🚀 Starting GSM pipeline...\u001b[0m\n",
      "\u001b[32m✨ 2025-01-20 21:47:55,126 - gsm_pipeline - INFO - Start data preprocessing.\u001b[0m\n",
      "\u001b[32m✨ 2025-01-20 21:47:55,128 - gsm_pipeline - INFO - Starting data normalization using zscore method\u001b[0m\n",
      "\u001b[32m✨ 2025-01-20 21:47:55,144 - gsm_pipeline - INFO - Data normalization completed successfully\u001b[0m\n",
      "\u001b[32m✨ 2025-01-20 21:47:55,159 - gsm_pipeline - INFO - Data preprocessing completed.\u001b[0m\n",
      "\u001b[32m✨ 2025-01-20 21:47:55,161 - gsm_pipeline - INFO - Grouping data preprocessing completed.\u001b[0m\n",
      "\u001b[32m✨ 2025-01-20 21:47:55,162 - gsm_pipeline - INFO - Iteration 0 for gsm_main_loop started...\u001b[0m\n",
      "\u001b[32m✨ 2025-01-20 21:47:55,162 - gsm_pipeline - INFO - ##### Starting GSM Main Loop #####\u001b[0m\n",
      "\u001b[32m✨ 2025-01-20 21:47:55,163 - gsm_pipeline - INFO - 📊 Splitting data into training and testing sets...\u001b[0m\n",
      "\u001b[32m✨ 2025-01-20 21:47:55,185 - gsm_pipeline - INFO - Data split completed.\u001b[0m\n",
      "\u001b[32m✨ 2025-01-20 21:47:55,186 - gsm_pipeline - INFO - 🔍 Applying preliminary t-test filter...\u001b[0m\n",
      "\u001b[32m✨ 2025-01-20 21:47:55,187 - gsm_pipeline - INFO - Starting preliminary filtering...\u001b[0m\n",
      "\u001b[32m✨ 2025-01-20 21:47:55,192 - gsm_pipeline - INFO - Selected 59 features using p-value threshold 0.05\u001b[0m\n",
      "\u001b[32m✨ 2025-01-20 21:47:55,193 - gsm_pipeline - INFO - Preliminary filtering completed. Selected 59 features.\u001b[0m\n",
      "\u001b[32m✨ 2025-01-20 21:47:55,193 - gsm_pipeline - INFO - Preliminary filtering completed.\u001b[0m\n",
      "\u001b[32m✨ 2025-01-20 21:47:55,194 - gsm_pipeline - INFO - 🔗 Running gene grouping analysis...\u001b[0m\n",
      "\u001b[32m✨ 2025-01-20 21:47:55,197 - gsm_pipeline - INFO - Grouping completed.\u001b[0m\n",
      "\u001b[32m✨ 2025-01-20 21:47:55,197 - gsm_pipeline - INFO - 📈 Evaluating group performance...\u001b[0m\n",
      "\u001b[32m✨ 2025-01-20 21:47:55,198 - gsm_pipeline - INFO - 🔄 Starting group scoring process...\u001b[0m\n"
     ]
    },
    {
     "name": "stderr",
     "output_type": "stream",
     "text": [
      "📊 Scoring groups: 100%|█████████████████████| 26/26 [00:11<00:00,  2.30group/s]"
     ]
    },
    {
     "name": "stdout",
     "output_type": "stream",
     "text": [
      "\u001b[32m✨ 2025-01-20 21:48:06,528 - gsm_pipeline - INFO - Scoring completed.\u001b[0m\n",
      "\u001b[32m✨ 2025-01-20 21:48:06,529 - gsm_pipeline - INFO - 🤖 Training and evaluating models...\u001b[0m\n",
      "\u001b[32m✨ 2025-01-20 21:48:06,633 - gsm_pipeline - INFO - ✅ Successfully calculated metrics\u001b[0m\n",
      "\u001b[32m✨ 2025-01-20 21:48:06,634 - gsm_pipeline - INFO - Modeling completed successfully.\u001b[0m\n",
      "\u001b[32m✨ 2025-01-20 21:48:06,636 - gsm_pipeline - INFO - Iteration 0 for gsm_main_loop completed.\u001b[0m\n",
      "\u001b[32m✨ 2025-01-20 21:48:06,636 - gsm_pipeline - INFO - Saving intermediate results...\u001b[0m\n",
      "\u001b[32m✨ 2025-01-20 21:48:06,637 - gsm_pipeline - INFO - 📁 Created results directory: /home/yasin/GSM-to-python/output/2025-01-20_21-48-06\u001b[0m\n",
      "\u001b[32m✨ 2025-01-20 21:48:06,675 - gsm_pipeline - INFO - 🤖 Saved model to /home/yasin/GSM-to-python/output/2025-01-20_21-48-06/modeling_results_1_model.joblib\u001b[0m\n",
      "\u001b[32m✨ 2025-01-20 21:48:06,676 - gsm_pipeline - INFO - 📝 Saved metadata to /home/yasin/GSM-to-python/output/2025-01-20_21-48-06/modeling_results_1_metrics.json\u001b[0m\n",
      "\u001b[32m✨ 2025-01-20 21:48:06,678 - gsm_pipeline - INFO - 📝 Saved metadata to /home/yasin/GSM-to-python/output/2025-01-20_21-48-06/modeling_results_1_features.json\u001b[0m\n",
      "\u001b[32m✨ 2025-01-20 21:48:06,678 - gsm_pipeline - INFO - ✅ Successfully saved modeling results 1 for modeling_results\u001b[0m\n",
      "\u001b[32m✨ 2025-01-20 21:48:06,679 - gsm_pipeline - INFO - Intermediate results saved.\u001b[0m\n",
      "\u001b[32m✨ 2025-01-20 21:48:06,680 - gsm_pipeline - INFO - GSM pipeline completed successfully.\u001b[0m\n"
     ]
    },
    {
     "name": "stderr",
     "output_type": "stream",
     "text": [
      "\n"
     ]
    }
   ],
   "source": [
    "%load_ext autoreload\n",
    "%autoreload 2\n",
    "%reload_ext autoreload\n",
    "\n",
    "from config import INPUT_EXPRESSION_DATA, INPUT_GROUP_DATA\n",
    "from data_processing import data_loader\n",
    "import GSM_pipeline\n",
    "import pathlib\n",
    "from utils import logger\n",
    "\n",
    "project_folder = pathlib.Path().resolve().parent\n",
    "print(f\"Project Folder: {project_folder}\")\n",
    "\n",
    "# Now you can import the GSM_pipeline module\n",
    "input_file = project_folder / INPUT_EXPRESSION_DATA\n",
    "group_file = project_folder / INPUT_GROUP_DATA\n",
    "\n",
    "input_data = data_loader.load_input_file(input_file)\n",
    "group_data = data_loader.load_group_file(group_file)\n",
    "\n",
    "GSM_pipeline.gsm_run(input_data, group_data, logger=logger)"
   ]
  }
 ],
 "metadata": {
  "kernelspec": {
   "display_name": "conda_env",
   "language": "python",
   "name": "python3"
  },
  "language_info": {
   "codemirror_mode": {
    "name": "ipython",
    "version": 3
   },
   "file_extension": ".py",
   "mimetype": "text/x-python",
   "name": "python",
   "nbconvert_exporter": "python",
   "pygments_lexer": "ipython3",
   "version": "3.9.21"
  }
 },
 "nbformat": 4,
 "nbformat_minor": 2
}
