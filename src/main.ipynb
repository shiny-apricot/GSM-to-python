{
 "cells": [
  {
   "cell_type": "code",
   "execution_count": 1,
   "metadata": {},
   "outputs": [],
   "source": [
    "%load_ext autoreload\n",
    "%autoreload 2"
   ]
  },
  {
   "cell_type": "code",
   "execution_count": 2,
   "metadata": {},
   "outputs": [],
   "source": [
    "%reload_ext autoreload"
   ]
  },
  {
   "cell_type": "code",
   "execution_count": 4,
   "metadata": {},
   "outputs": [
    {
     "name": "stdout",
     "output_type": "stream",
     "text": [
      "Project Folder: C:\\Users\\Lenovo\\Desktop\\Malik-Burcu-LAB\\GSM\\GSM-to-python\n",
      "C:\\Users\\Lenovo\\Desktop\\Malik-Burcu-LAB\\GSM\\GSM-to-python\\data\\main_data\\GDS1962.csv\n",
      "2025-01-18 23:56:51,969 - utils.logger - INFO - Starting GSM pipeline...\n"
     ]
    },
    {
     "name": "stderr",
     "output_type": "stream",
     "text": [
      "2025-01-18 23:56:51,969 - utils.logger - INFO - Starting GSM pipeline...\n"
     ]
    },
    {
     "name": "stdout",
     "output_type": "stream",
     "text": [
      "2025-01-18 23:56:51,970 - utils.logger - INFO - Start data preprocessing.\n"
     ]
    },
    {
     "name": "stderr",
     "output_type": "stream",
     "text": [
      "2025-01-18 23:56:51,970 - utils.logger - INFO - Start data preprocessing.\n"
     ]
    },
    {
     "name": "stdout",
     "output_type": "stream",
     "text": [
      "2025-01-18 23:56:51,973 - utils.logger - INFO - Starting data normalization using zscore method\n"
     ]
    },
    {
     "name": "stderr",
     "output_type": "stream",
     "text": [
      "2025-01-18 23:56:51,973 - utils.logger - INFO - Starting data normalization using zscore method\n"
     ]
    },
    {
     "name": "stdout",
     "output_type": "stream",
     "text": [
      "2025-01-18 23:56:51,979 - utils.logger - INFO - Data normalization completed successfully\n"
     ]
    },
    {
     "name": "stderr",
     "output_type": "stream",
     "text": [
      "2025-01-18 23:56:51,979 - utils.logger - INFO - Data normalization completed successfully\n"
     ]
    },
    {
     "name": "stdout",
     "output_type": "stream",
     "text": [
      "2025-01-18 23:56:51,981 - utils.logger - INFO - Data preprocessing completed.\n"
     ]
    },
    {
     "name": "stderr",
     "output_type": "stream",
     "text": [
      "2025-01-18 23:56:51,981 - utils.logger - INFO - Data preprocessing completed.\n"
     ]
    },
    {
     "name": "stdout",
     "output_type": "stream",
     "text": [
      "2025-01-18 23:56:51,982 - utils.logger - INFO - Grouping data preprocessing completed.\n"
     ]
    },
    {
     "name": "stderr",
     "output_type": "stream",
     "text": [
      "2025-01-18 23:56:51,982 - utils.logger - INFO - Grouping data preprocessing completed.\n"
     ]
    },
    {
     "name": "stdout",
     "output_type": "stream",
     "text": [
      "2025-01-18 23:56:51,983 - utils.logger - INFO - Iteration 0 for gsm_main_loop started...\n"
     ]
    },
    {
     "name": "stderr",
     "output_type": "stream",
     "text": [
      "2025-01-18 23:56:51,983 - utils.logger - INFO - Iteration 0 for gsm_main_loop started...\n"
     ]
    },
    {
     "name": "stdout",
     "output_type": "stream",
     "text": [
      "2025-01-18 23:56:51,984 - utils.logger - INFO - Splitting data into training and testing sets...\n"
     ]
    },
    {
     "name": "stderr",
     "output_type": "stream",
     "text": [
      "2025-01-18 23:56:51,984 - utils.logger - INFO - Splitting data into training and testing sets...\n"
     ]
    },
    {
     "name": "stdout",
     "output_type": "stream",
     "text": [
      "2025-01-18 23:56:51,987 - utils.logger - INFO - Data split completed.\n"
     ]
    },
    {
     "name": "stderr",
     "output_type": "stream",
     "text": [
      "2025-01-18 23:56:51,987 - utils.logger - INFO - Data split completed.\n"
     ]
    },
    {
     "name": "stdout",
     "output_type": "stream",
     "text": [
      "2025-01-18 23:56:51,988 - utils.logger - INFO - Applying preliminary filter to training data...\n"
     ]
    },
    {
     "name": "stderr",
     "output_type": "stream",
     "text": [
      "2025-01-18 23:56:51,988 - utils.logger - INFO - Applying preliminary filter to training data...\n"
     ]
    },
    {
     "name": "stdout",
     "output_type": "stream",
     "text": [
      "2025-01-18 23:56:51,989 - utils.logger - INFO - Starting preliminary filtering...\n"
     ]
    },
    {
     "name": "stderr",
     "output_type": "stream",
     "text": [
      "2025-01-18 23:56:51,989 - utils.logger - INFO - Starting preliminary filtering...\n"
     ]
    },
    {
     "name": "stdout",
     "output_type": "stream",
     "text": [
      "2025-01-18 23:56:51,992 - utils.logger - INFO - Selected 7 features using p-value threshold 0.05\n"
     ]
    },
    {
     "name": "stderr",
     "output_type": "stream",
     "text": [
      "2025-01-18 23:56:51,992 - utils.logger - INFO - Selected 7 features using p-value threshold 0.05\n"
     ]
    },
    {
     "name": "stdout",
     "output_type": "stream",
     "text": [
      "2025-01-18 23:56:51,993 - utils.logger - INFO - Preliminary filtering completed. Selected 7 features.\n"
     ]
    },
    {
     "name": "stderr",
     "output_type": "stream",
     "text": [
      "2025-01-18 23:56:51,993 - utils.logger - INFO - Preliminary filtering completed. Selected 7 features.\n"
     ]
    },
    {
     "name": "stdout",
     "output_type": "stream",
     "text": [
      "2025-01-18 23:56:51,994 - utils.logger - INFO - Preliminary filtering completed.\n"
     ]
    },
    {
     "name": "stderr",
     "output_type": "stream",
     "text": [
      "2025-01-18 23:56:51,994 - utils.logger - INFO - Preliminary filtering completed.\n"
     ]
    },
    {
     "name": "stdout",
     "output_type": "stream",
     "text": [
      "2025-01-18 23:56:51,995 - utils.logger - INFO - Running grouping...\n"
     ]
    },
    {
     "name": "stderr",
     "output_type": "stream",
     "text": [
      "2025-01-18 23:56:51,995 - utils.logger - INFO - Running grouping...\n"
     ]
    },
    {
     "ename": "TypeError",
     "evalue": "'TTestResults' object is not subscriptable",
     "output_type": "error",
     "traceback": [
      "\u001b[1;31m---------------------------------------------------------------------------\u001b[0m",
      "\u001b[1;31mTypeError\u001b[0m                                 Traceback (most recent call last)",
      "Cell \u001b[1;32mIn[4], line 19\u001b[0m\n\u001b[0;32m     16\u001b[0m \u001b[38;5;66;03m# get only the first 10 features of data\u001b[39;00m\n\u001b[0;32m     17\u001b[0m input_data \u001b[38;5;241m=\u001b[39m input_data\u001b[38;5;241m.\u001b[39miloc[:, :\u001b[38;5;241m10\u001b[39m]\n\u001b[1;32m---> 19\u001b[0m \u001b[43mGSM_pipeline\u001b[49m\u001b[38;5;241;43m.\u001b[39;49m\u001b[43mgsm_run\u001b[49m\u001b[43m(\u001b[49m\u001b[43minput_data\u001b[49m\u001b[43m,\u001b[49m\u001b[43m \u001b[49m\u001b[43mgroup_data\u001b[49m\u001b[43m)\u001b[49m\n",
      "File \u001b[1;32mc:\\Users\\Lenovo\\Desktop\\Malik-Burcu-LAB\\GSM\\GSM-to-python\\src\\GSM_pipeline.py:49\u001b[0m, in \u001b[0;36mgsm_run\u001b[1;34m(input_data, group_data, sample_ratio, n_iteration_workflow, model_name, label_column_name, normalization_method, notebook_mode)\u001b[0m\n\u001b[0;32m     47\u001b[0m \u001b[38;5;28;01mfor\u001b[39;00m i \u001b[38;5;129;01min\u001b[39;00m \u001b[38;5;28mrange\u001b[39m(n_iteration_workflow):    \n\u001b[0;32m     48\u001b[0m     logger\u001b[38;5;241m.\u001b[39minfo(\u001b[38;5;124mf\u001b[39m\u001b[38;5;124m\"\u001b[39m\u001b[38;5;124mIteration \u001b[39m\u001b[38;5;132;01m{\u001b[39;00mi\u001b[38;5;132;01m}\u001b[39;00m\u001b[38;5;124m for gsm_main_loop started...\u001b[39m\u001b[38;5;124m\"\u001b[39m)\n\u001b[1;32m---> 49\u001b[0m     \u001b[43mgsm_main_loop\u001b[49m\u001b[43m(\u001b[49m\u001b[43mdata_preprocessed_train\u001b[49m\u001b[43m,\u001b[49m\u001b[43m \u001b[49m\u001b[43mgroup_data_processed\u001b[49m\u001b[43m,\u001b[49m\u001b[43m \u001b[49m\u001b[43mmodel_name\u001b[49m\u001b[43m,\u001b[49m\u001b[43m \u001b[49m\u001b[43mlogger\u001b[49m\u001b[43m)\u001b[49m\n\u001b[0;32m     50\u001b[0m     logger\u001b[38;5;241m.\u001b[39minfo(\u001b[38;5;124mf\u001b[39m\u001b[38;5;124m\"\u001b[39m\u001b[38;5;124mIteration \u001b[39m\u001b[38;5;132;01m{\u001b[39;00mi\u001b[38;5;132;01m}\u001b[39;00m\u001b[38;5;124m for gsm_main_loop completed.\u001b[39m\u001b[38;5;124m\"\u001b[39m)\n\u001b[0;32m     52\u001b[0m logger\u001b[38;5;241m.\u001b[39minfo(\u001b[38;5;124m\"\u001b[39m\u001b[38;5;124mGSM pipeline completed successfully.\u001b[39m\u001b[38;5;124m\"\u001b[39m)\n",
      "File \u001b[1;32mc:\\Users\\Lenovo\\Desktop\\Malik-Burcu-LAB\\GSM\\GSM-to-python\\src\\GSM_pipeline.py:69\u001b[0m, in \u001b[0;36mgsm_main_loop\u001b[1;34m(data, grouping_data, model_name, logger)\u001b[0m\n\u001b[0;32m     67\u001b[0m \u001b[38;5;66;03m# Grouping\u001b[39;00m\n\u001b[0;32m     68\u001b[0m logger\u001b[38;5;241m.\u001b[39minfo(\u001b[38;5;124m\"\u001b[39m\u001b[38;5;124mRunning grouping...\u001b[39m\u001b[38;5;124m\"\u001b[39m)\n\u001b[1;32m---> 69\u001b[0m grouping_result_object \u001b[38;5;241m=\u001b[39m \u001b[43mrun_grouping\u001b[49m\u001b[43m(\u001b[49m\u001b[43mfiltered_train\u001b[49m\u001b[43m,\u001b[49m\u001b[43m \u001b[49m\u001b[43mgrouping_data\u001b[49m\u001b[43m)\u001b[49m\n\u001b[0;32m     70\u001b[0m logger\u001b[38;5;241m.\u001b[39minfo(\u001b[38;5;124m\"\u001b[39m\u001b[38;5;124mGrouping completed.\u001b[39m\u001b[38;5;124m\"\u001b[39m)\n\u001b[0;32m     72\u001b[0m \u001b[38;5;66;03m# Scoring\u001b[39;00m\n",
      "File \u001b[1;32mc:\\Users\\Lenovo\\Desktop\\Malik-Burcu-LAB\\GSM\\GSM-to-python\\src\\grouping\\run_grouping.py:60\u001b[0m, in \u001b[0;36mrun_grouping\u001b[1;34m(main_data, grouping_data, **kwargs)\u001b[0m\n\u001b[0;32m     58\u001b[0m grouped_data: Dict[\u001b[38;5;28mstr\u001b[39m, GroupData] \u001b[38;5;241m=\u001b[39m {}\n\u001b[0;32m     59\u001b[0m \u001b[38;5;28;01mfor\u001b[39;00m group \u001b[38;5;129;01min\u001b[39;00m groups:\n\u001b[1;32m---> 60\u001b[0m     features, labels \u001b[38;5;241m=\u001b[39m \u001b[43mget_group_data\u001b[49m\u001b[43m(\u001b[49m\u001b[43mmain_data\u001b[49m\u001b[43m,\u001b[49m\u001b[43m \u001b[49m\u001b[43mgrouping_data\u001b[49m\u001b[43m,\u001b[49m\u001b[43m \u001b[49m\u001b[43mgroup\u001b[49m\u001b[43m)\u001b[49m\n\u001b[0;32m     61\u001b[0m     grouped_data[group] \u001b[38;5;241m=\u001b[39m GroupData(\n\u001b[0;32m     62\u001b[0m         features\u001b[38;5;241m=\u001b[39mfeatures,\n\u001b[0;32m     63\u001b[0m         labels\u001b[38;5;241m=\u001b[39mlabels,\n\u001b[0;32m     64\u001b[0m         group_name\u001b[38;5;241m=\u001b[39mgroup\n\u001b[0;32m     65\u001b[0m     )\n\u001b[0;32m     67\u001b[0m \u001b[38;5;28;01mreturn\u001b[39;00m GroupingResult(\n\u001b[0;32m     68\u001b[0m     grouped_data\u001b[38;5;241m=\u001b[39mgrouped_data,\n\u001b[0;32m     69\u001b[0m     feature_mappings\u001b[38;5;241m=\u001b[39mfeature_mappings\n\u001b[0;32m     70\u001b[0m )\n",
      "File \u001b[1;32mc:\\Users\\Lenovo\\Desktop\\Malik-Burcu-LAB\\GSM\\GSM-to-python\\src\\grouping\\grouping_utils.py:76\u001b[0m, in \u001b[0;36mget_group_data\u001b[1;34m(main_data, grouping_data, group)\u001b[0m\n\u001b[0;32m     73\u001b[0m group_features \u001b[38;5;241m=\u001b[39m grouping_data[grouping_data[GROUP_COLUMN_NAME] \u001b[38;5;241m==\u001b[39m group][GENE_COLUMN_NAME]\n\u001b[0;32m     75\u001b[0m \u001b[38;5;66;03m# Select the relevant features from the main data\u001b[39;00m\n\u001b[1;32m---> 76\u001b[0m features \u001b[38;5;241m=\u001b[39m \u001b[43mmain_data\u001b[49m\u001b[43m[\u001b[49m\u001b[43mgroup_features\u001b[49m\u001b[43m]\u001b[49m\u001b[38;5;241m.\u001b[39mcopy()\n\u001b[0;32m     77\u001b[0m labels \u001b[38;5;241m=\u001b[39m main_data[LABEL_COLUMN_NAME]  \u001b[38;5;66;03m# Assuming 'label' is the column name for labels\u001b[39;00m\n\u001b[0;32m     79\u001b[0m \u001b[38;5;28;01mreturn\u001b[39;00m features, labels\n",
      "\u001b[1;31mTypeError\u001b[0m: 'TTestResults' object is not subscriptable"
     ]
    }
   ],
   "source": [
    "from config import INPUT_EXPRESSION_DATA, INPUT_GROUP_DATA\n",
    "from data_processing import data_loader\n",
    "import GSM_pipeline\n",
    "import pathlib\n",
    "\n",
    "project_folder = pathlib.Path().resolve().parent\n",
    "print(f\"Project Folder: {project_folder}\")\n",
    "\n",
    "# Now you can import the GSM_pipeline module\n",
    "input_file = project_folder / INPUT_EXPRESSION_DATA\n",
    "group_file = project_folder / INPUT_GROUP_DATA\n",
    "\n",
    "input_data = data_loader.load_input_file(input_file)\n",
    "group_data = data_loader.load_group_file(group_file)\n",
    "\n",
    "# get only the first 10 features of data\n",
    "input_data = input_data.iloc[:, :10]\n",
    "\n",
    "GSM_pipeline.gsm_run(input_data, group_data)"
   ]
  },
  {
   "cell_type": "code",
   "execution_count": null,
   "metadata": {},
   "outputs": [],
   "source": []
  }
 ],
 "metadata": {
  "kernelspec": {
   "display_name": "base",
   "language": "python",
   "name": "python3"
  },
  "language_info": {
   "codemirror_mode": {
    "name": "ipython",
    "version": 3
   },
   "file_extension": ".py",
   "mimetype": "text/x-python",
   "name": "python",
   "nbconvert_exporter": "python",
   "pygments_lexer": "ipython3",
   "version": "3.11.4"
  }
 },
 "nbformat": 4,
 "nbformat_minor": 2
}
